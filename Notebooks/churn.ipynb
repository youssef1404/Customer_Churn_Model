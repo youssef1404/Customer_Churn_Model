{
 "cells": [
  {
   "cell_type": "markdown",
   "metadata": {},
   "source": [
    "## Customer Churn Detection"
   ]
  },
  {
   "cell_type": "markdown",
   "metadata": {},
   "source": [
    "* `Importing Libraries`"
   ]
  },
  {
   "cell_type": "code",
   "execution_count": 4,
   "metadata": {},
   "outputs": [],
   "source": [
    "import numpy as np\n",
    "import pandas as pd\n",
    "import matplotlib.pyplot as plt\n",
    "import seaborn as sns\n",
    "import os\n",
    "import joblib\n",
    "\n",
    "# sklearn - preprocessing\n",
    "from sklearn.model_selection import train_test_split, RandomizedSearchCV, GridSearchCV\n",
    "from sklearn.preprocessing import StandardScaler, OneHotEncoder\n",
    "from sklearn.impute import SimpleImputer\n",
    "from sklearn.pipeline import Pipeline\n",
    "from sklearn.compose import ColumnTransformer\n",
    "from sklearn.metrics import roc_curve, roc_auc_score, confusion_matrix, accuracy_score, precision_score, recall_score, f1_score\n",
    "\n",
    "# imblearn\n",
    "from imblearn.over_sampling import SMOTE\n",
    "\n",
    "# sklearn - models\n",
    "from sklearn.linear_model import LogisticRegression\n",
    "from sklearn.ensemble import RandomForestClassifier\n",
    "from xgboost import XGBClassifier\n",
    "\n",
    "# sklearn - metrics\n",
    "from sklearn.metrics import confusion_matrix, f1_score\n"
   ]
  },
  {
   "cell_type": "markdown",
   "metadata": {},
   "source": [
    "* `Read data`"
   ]
  },
  {
   "cell_type": "code",
   "execution_count": 5,
   "metadata": {},
   "outputs": [
    {
     "data": {
      "text/html": [
       "<div>\n",
       "<style scoped>\n",
       "    .dataframe tbody tr th:only-of-type {\n",
       "        vertical-align: middle;\n",
       "    }\n",
       "\n",
       "    .dataframe tbody tr th {\n",
       "        vertical-align: top;\n",
       "    }\n",
       "\n",
       "    .dataframe thead th {\n",
       "        text-align: right;\n",
       "    }\n",
       "</style>\n",
       "<table border=\"1\" class=\"dataframe\">\n",
       "  <thead>\n",
       "    <tr style=\"text-align: right;\">\n",
       "      <th></th>\n",
       "      <th>RowNumber</th>\n",
       "      <th>CustomerId</th>\n",
       "      <th>Surname</th>\n",
       "      <th>CreditScore</th>\n",
       "      <th>Geography</th>\n",
       "      <th>Gender</th>\n",
       "      <th>Age</th>\n",
       "      <th>Tenure</th>\n",
       "      <th>Balance</th>\n",
       "      <th>NumOfProducts</th>\n",
       "      <th>HasCrCard</th>\n",
       "      <th>IsActiveMember</th>\n",
       "      <th>EstimatedSalary</th>\n",
       "      <th>Exited</th>\n",
       "    </tr>\n",
       "  </thead>\n",
       "  <tbody>\n",
       "    <tr>\n",
       "      <th>0</th>\n",
       "      <td>1</td>\n",
       "      <td>15634602</td>\n",
       "      <td>Hargrave</td>\n",
       "      <td>619</td>\n",
       "      <td>France</td>\n",
       "      <td>Female</td>\n",
       "      <td>42</td>\n",
       "      <td>2</td>\n",
       "      <td>0.00</td>\n",
       "      <td>1</td>\n",
       "      <td>1</td>\n",
       "      <td>1</td>\n",
       "      <td>101348.88</td>\n",
       "      <td>1</td>\n",
       "    </tr>\n",
       "    <tr>\n",
       "      <th>1</th>\n",
       "      <td>2</td>\n",
       "      <td>15647311</td>\n",
       "      <td>Hill</td>\n",
       "      <td>608</td>\n",
       "      <td>Spain</td>\n",
       "      <td>Female</td>\n",
       "      <td>41</td>\n",
       "      <td>1</td>\n",
       "      <td>83807.86</td>\n",
       "      <td>1</td>\n",
       "      <td>0</td>\n",
       "      <td>1</td>\n",
       "      <td>112542.58</td>\n",
       "      <td>0</td>\n",
       "    </tr>\n",
       "    <tr>\n",
       "      <th>2</th>\n",
       "      <td>3</td>\n",
       "      <td>15619304</td>\n",
       "      <td>Onio</td>\n",
       "      <td>502</td>\n",
       "      <td>France</td>\n",
       "      <td>Female</td>\n",
       "      <td>42</td>\n",
       "      <td>8</td>\n",
       "      <td>159660.80</td>\n",
       "      <td>3</td>\n",
       "      <td>1</td>\n",
       "      <td>0</td>\n",
       "      <td>113931.57</td>\n",
       "      <td>1</td>\n",
       "    </tr>\n",
       "    <tr>\n",
       "      <th>3</th>\n",
       "      <td>4</td>\n",
       "      <td>15701354</td>\n",
       "      <td>Boni</td>\n",
       "      <td>699</td>\n",
       "      <td>France</td>\n",
       "      <td>Female</td>\n",
       "      <td>39</td>\n",
       "      <td>1</td>\n",
       "      <td>0.00</td>\n",
       "      <td>2</td>\n",
       "      <td>0</td>\n",
       "      <td>0</td>\n",
       "      <td>93826.63</td>\n",
       "      <td>0</td>\n",
       "    </tr>\n",
       "    <tr>\n",
       "      <th>4</th>\n",
       "      <td>5</td>\n",
       "      <td>15737888</td>\n",
       "      <td>Mitchell</td>\n",
       "      <td>850</td>\n",
       "      <td>Spain</td>\n",
       "      <td>Female</td>\n",
       "      <td>43</td>\n",
       "      <td>2</td>\n",
       "      <td>125510.82</td>\n",
       "      <td>1</td>\n",
       "      <td>1</td>\n",
       "      <td>1</td>\n",
       "      <td>79084.10</td>\n",
       "      <td>0</td>\n",
       "    </tr>\n",
       "  </tbody>\n",
       "</table>\n",
       "</div>"
      ],
      "text/plain": [
       "   RowNumber  CustomerId   Surname  CreditScore Geography  Gender  Age  \\\n",
       "0          1    15634602  Hargrave          619    France  Female   42   \n",
       "1          2    15647311      Hill          608     Spain  Female   41   \n",
       "2          3    15619304      Onio          502    France  Female   42   \n",
       "3          4    15701354      Boni          699    France  Female   39   \n",
       "4          5    15737888  Mitchell          850     Spain  Female   43   \n",
       "\n",
       "   Tenure    Balance  NumOfProducts  HasCrCard  IsActiveMember  \\\n",
       "0       2       0.00              1          1               1   \n",
       "1       1   83807.86              1          0               1   \n",
       "2       8  159660.80              3          1               0   \n",
       "3       1       0.00              2          0               0   \n",
       "4       2  125510.82              1          1               1   \n",
       "\n",
       "   EstimatedSalary  Exited  \n",
       "0        101348.88       1  \n",
       "1        112542.58       0  \n",
       "2        113931.57       1  \n",
       "3         93826.63       0  \n",
       "4         79084.10       0  "
      ]
     },
     "execution_count": 5,
     "metadata": {},
     "output_type": "execute_result"
    }
   ],
   "source": [
    "FILEPATH = os.path.join(os.getcwd(), \"dataset.csv\")\n",
    "df = pd.read_csv(FILEPATH)\n",
    "df.head()"
   ]
  },
  {
   "cell_type": "code",
   "execution_count": 6,
   "metadata": {},
   "outputs": [
    {
     "data": {
      "text/plain": [
       "RowNumber            int64\n",
       "CustomerId           int64\n",
       "Surname             object\n",
       "CreditScore          int64\n",
       "Geography           object\n",
       "Gender              object\n",
       "Age                  int64\n",
       "Tenure               int64\n",
       "Balance            float64\n",
       "NumOfProducts        int64\n",
       "HasCrCard            int64\n",
       "IsActiveMember       int64\n",
       "EstimatedSalary    float64\n",
       "Exited               int64\n",
       "dtype: object"
      ]
     },
     "execution_count": 6,
     "metadata": {},
     "output_type": "execute_result"
    }
   ],
   "source": [
    "df.dtypes"
   ]
  },
  {
   "cell_type": "code",
   "execution_count": 7,
   "metadata": {},
   "outputs": [
    {
     "data": {
      "text/plain": [
       "(10000, 14)"
      ]
     },
     "execution_count": 7,
     "metadata": {},
     "output_type": "execute_result"
    }
   ],
   "source": [
    "df.shape"
   ]
  },
  {
   "cell_type": "code",
   "execution_count": 8,
   "metadata": {},
   "outputs": [],
   "source": [
    "# drop unusful features\n",
    "df.drop(columns=[\"RowNumber\", \"CustomerId\", \"Surname\"], inplace=True)"
   ]
  },
  {
   "cell_type": "code",
   "execution_count": 9,
   "metadata": {},
   "outputs": [
    {
     "name": "stdout",
     "output_type": "stream",
     "text": [
      "<class 'pandas.core.frame.DataFrame'>\n",
      "RangeIndex: 10000 entries, 0 to 9999\n",
      "Data columns (total 11 columns):\n",
      " #   Column           Non-Null Count  Dtype  \n",
      "---  ------           --------------  -----  \n",
      " 0   CreditScore      10000 non-null  int64  \n",
      " 1   Geography        10000 non-null  object \n",
      " 2   Gender           10000 non-null  object \n",
      " 3   Age              10000 non-null  int64  \n",
      " 4   Tenure           10000 non-null  int64  \n",
      " 5   Balance          10000 non-null  float64\n",
      " 6   NumOfProducts    10000 non-null  int64  \n",
      " 7   HasCrCard        10000 non-null  int64  \n",
      " 8   IsActiveMember   10000 non-null  int64  \n",
      " 9   EstimatedSalary  10000 non-null  float64\n",
      " 10  Exited           10000 non-null  int64  \n",
      "dtypes: float64(2), int64(7), object(2)\n",
      "memory usage: 859.5+ KB\n"
     ]
    }
   ],
   "source": [
    "# info\n",
    "df.info()"
   ]
  },
  {
   "cell_type": "code",
   "execution_count": 10,
   "metadata": {},
   "outputs": [
    {
     "data": {
      "text/html": [
       "<div>\n",
       "<style scoped>\n",
       "    .dataframe tbody tr th:only-of-type {\n",
       "        vertical-align: middle;\n",
       "    }\n",
       "\n",
       "    .dataframe tbody tr th {\n",
       "        vertical-align: top;\n",
       "    }\n",
       "\n",
       "    .dataframe thead th {\n",
       "        text-align: right;\n",
       "    }\n",
       "</style>\n",
       "<table border=\"1\" class=\"dataframe\">\n",
       "  <thead>\n",
       "    <tr style=\"text-align: right;\">\n",
       "      <th></th>\n",
       "      <th>CreditScore</th>\n",
       "      <th>Age</th>\n",
       "      <th>Tenure</th>\n",
       "      <th>Balance</th>\n",
       "      <th>NumOfProducts</th>\n",
       "      <th>HasCrCard</th>\n",
       "      <th>IsActiveMember</th>\n",
       "      <th>EstimatedSalary</th>\n",
       "      <th>Exited</th>\n",
       "    </tr>\n",
       "  </thead>\n",
       "  <tbody>\n",
       "    <tr>\n",
       "      <th>count</th>\n",
       "      <td>10000.000000</td>\n",
       "      <td>10000.000000</td>\n",
       "      <td>10000.000000</td>\n",
       "      <td>10000.000000</td>\n",
       "      <td>10000.000000</td>\n",
       "      <td>10000.00000</td>\n",
       "      <td>10000.000000</td>\n",
       "      <td>10000.000000</td>\n",
       "      <td>10000.000000</td>\n",
       "    </tr>\n",
       "    <tr>\n",
       "      <th>mean</th>\n",
       "      <td>650.528800</td>\n",
       "      <td>38.921800</td>\n",
       "      <td>5.012800</td>\n",
       "      <td>76485.889288</td>\n",
       "      <td>1.530200</td>\n",
       "      <td>0.70550</td>\n",
       "      <td>0.515100</td>\n",
       "      <td>100090.239881</td>\n",
       "      <td>0.203700</td>\n",
       "    </tr>\n",
       "    <tr>\n",
       "      <th>std</th>\n",
       "      <td>96.653299</td>\n",
       "      <td>10.487806</td>\n",
       "      <td>2.892174</td>\n",
       "      <td>62397.405202</td>\n",
       "      <td>0.581654</td>\n",
       "      <td>0.45584</td>\n",
       "      <td>0.499797</td>\n",
       "      <td>57510.492818</td>\n",
       "      <td>0.402769</td>\n",
       "    </tr>\n",
       "    <tr>\n",
       "      <th>min</th>\n",
       "      <td>350.000000</td>\n",
       "      <td>18.000000</td>\n",
       "      <td>0.000000</td>\n",
       "      <td>0.000000</td>\n",
       "      <td>1.000000</td>\n",
       "      <td>0.00000</td>\n",
       "      <td>0.000000</td>\n",
       "      <td>11.580000</td>\n",
       "      <td>0.000000</td>\n",
       "    </tr>\n",
       "    <tr>\n",
       "      <th>25%</th>\n",
       "      <td>584.000000</td>\n",
       "      <td>32.000000</td>\n",
       "      <td>3.000000</td>\n",
       "      <td>0.000000</td>\n",
       "      <td>1.000000</td>\n",
       "      <td>0.00000</td>\n",
       "      <td>0.000000</td>\n",
       "      <td>51002.110000</td>\n",
       "      <td>0.000000</td>\n",
       "    </tr>\n",
       "    <tr>\n",
       "      <th>50%</th>\n",
       "      <td>652.000000</td>\n",
       "      <td>37.000000</td>\n",
       "      <td>5.000000</td>\n",
       "      <td>97198.540000</td>\n",
       "      <td>1.000000</td>\n",
       "      <td>1.00000</td>\n",
       "      <td>1.000000</td>\n",
       "      <td>100193.915000</td>\n",
       "      <td>0.000000</td>\n",
       "    </tr>\n",
       "    <tr>\n",
       "      <th>75%</th>\n",
       "      <td>718.000000</td>\n",
       "      <td>44.000000</td>\n",
       "      <td>7.000000</td>\n",
       "      <td>127644.240000</td>\n",
       "      <td>2.000000</td>\n",
       "      <td>1.00000</td>\n",
       "      <td>1.000000</td>\n",
       "      <td>149388.247500</td>\n",
       "      <td>0.000000</td>\n",
       "    </tr>\n",
       "    <tr>\n",
       "      <th>max</th>\n",
       "      <td>850.000000</td>\n",
       "      <td>92.000000</td>\n",
       "      <td>10.000000</td>\n",
       "      <td>250898.090000</td>\n",
       "      <td>4.000000</td>\n",
       "      <td>1.00000</td>\n",
       "      <td>1.000000</td>\n",
       "      <td>199992.480000</td>\n",
       "      <td>1.000000</td>\n",
       "    </tr>\n",
       "  </tbody>\n",
       "</table>\n",
       "</div>"
      ],
      "text/plain": [
       "        CreditScore           Age        Tenure        Balance  NumOfProducts  \\\n",
       "count  10000.000000  10000.000000  10000.000000   10000.000000   10000.000000   \n",
       "mean     650.528800     38.921800      5.012800   76485.889288       1.530200   \n",
       "std       96.653299     10.487806      2.892174   62397.405202       0.581654   \n",
       "min      350.000000     18.000000      0.000000       0.000000       1.000000   \n",
       "25%      584.000000     32.000000      3.000000       0.000000       1.000000   \n",
       "50%      652.000000     37.000000      5.000000   97198.540000       1.000000   \n",
       "75%      718.000000     44.000000      7.000000  127644.240000       2.000000   \n",
       "max      850.000000     92.000000     10.000000  250898.090000       4.000000   \n",
       "\n",
       "         HasCrCard  IsActiveMember  EstimatedSalary        Exited  \n",
       "count  10000.00000    10000.000000     10000.000000  10000.000000  \n",
       "mean       0.70550        0.515100    100090.239881      0.203700  \n",
       "std        0.45584        0.499797     57510.492818      0.402769  \n",
       "min        0.00000        0.000000        11.580000      0.000000  \n",
       "25%        0.00000        0.000000     51002.110000      0.000000  \n",
       "50%        1.00000        1.000000    100193.915000      0.000000  \n",
       "75%        1.00000        1.000000    149388.247500      0.000000  \n",
       "max        1.00000        1.000000    199992.480000      1.000000  "
      ]
     },
     "execution_count": 10,
     "metadata": {},
     "output_type": "execute_result"
    }
   ],
   "source": [
    "# show statistics of the numeric data\n",
    "df.describe()"
   ]
  },
  {
   "cell_type": "code",
   "execution_count": 11,
   "metadata": {},
   "outputs": [
    {
     "data": {
      "text/html": [
       "<div>\n",
       "<style scoped>\n",
       "    .dataframe tbody tr th:only-of-type {\n",
       "        vertical-align: middle;\n",
       "    }\n",
       "\n",
       "    .dataframe tbody tr th {\n",
       "        vertical-align: top;\n",
       "    }\n",
       "\n",
       "    .dataframe thead th {\n",
       "        text-align: right;\n",
       "    }\n",
       "</style>\n",
       "<table border=\"1\" class=\"dataframe\">\n",
       "  <thead>\n",
       "    <tr style=\"text-align: right;\">\n",
       "      <th></th>\n",
       "      <th>Geography</th>\n",
       "      <th>Gender</th>\n",
       "    </tr>\n",
       "  </thead>\n",
       "  <tbody>\n",
       "    <tr>\n",
       "      <th>count</th>\n",
       "      <td>10000</td>\n",
       "      <td>10000</td>\n",
       "    </tr>\n",
       "    <tr>\n",
       "      <th>unique</th>\n",
       "      <td>3</td>\n",
       "      <td>2</td>\n",
       "    </tr>\n",
       "    <tr>\n",
       "      <th>top</th>\n",
       "      <td>France</td>\n",
       "      <td>Male</td>\n",
       "    </tr>\n",
       "    <tr>\n",
       "      <th>freq</th>\n",
       "      <td>5014</td>\n",
       "      <td>5457</td>\n",
       "    </tr>\n",
       "  </tbody>\n",
       "</table>\n",
       "</div>"
      ],
      "text/plain": [
       "       Geography Gender\n",
       "count      10000  10000\n",
       "unique         3      2\n",
       "top       France   Male\n",
       "freq        5014   5457"
      ]
     },
     "execution_count": 11,
     "metadata": {},
     "output_type": "execute_result"
    }
   ],
   "source": [
    "# show statistics of the categorical data\n",
    "df.describe(include=\"object\")"
   ]
  },
  {
   "cell_type": "markdown",
   "metadata": {},
   "source": [
    "* `Exploratory data analysis`"
   ]
  },
  {
   "cell_type": "code",
   "execution_count": 12,
   "metadata": {},
   "outputs": [
    {
     "data": {
      "text/plain": [
       "CreditScore        0\n",
       "Geography          0\n",
       "Gender             0\n",
       "Age                0\n",
       "Tenure             0\n",
       "Balance            0\n",
       "NumOfProducts      0\n",
       "HasCrCard          0\n",
       "IsActiveMember     0\n",
       "EstimatedSalary    0\n",
       "Exited             0\n",
       "dtype: int64"
      ]
     },
     "execution_count": 12,
     "metadata": {},
     "output_type": "execute_result"
    }
   ],
   "source": [
    "df.isna().sum()"
   ]
  },
  {
   "cell_type": "code",
   "execution_count": 13,
   "metadata": {},
   "outputs": [
    {
     "data": {
      "text/html": [
       "<div>\n",
       "<style scoped>\n",
       "    .dataframe tbody tr th:only-of-type {\n",
       "        vertical-align: middle;\n",
       "    }\n",
       "\n",
       "    .dataframe tbody tr th {\n",
       "        vertical-align: top;\n",
       "    }\n",
       "\n",
       "    .dataframe thead th {\n",
       "        text-align: right;\n",
       "    }\n",
       "</style>\n",
       "<table border=\"1\" class=\"dataframe\">\n",
       "  <thead>\n",
       "    <tr style=\"text-align: right;\">\n",
       "      <th></th>\n",
       "      <th>CreditScore</th>\n",
       "      <th>Geography</th>\n",
       "      <th>Gender</th>\n",
       "      <th>Age</th>\n",
       "      <th>Tenure</th>\n",
       "      <th>Balance</th>\n",
       "      <th>NumOfProducts</th>\n",
       "      <th>HasCrCard</th>\n",
       "      <th>IsActiveMember</th>\n",
       "      <th>EstimatedSalary</th>\n",
       "      <th>Exited</th>\n",
       "      <th>withdrawing</th>\n",
       "    </tr>\n",
       "  </thead>\n",
       "  <tbody>\n",
       "    <tr>\n",
       "      <th>0</th>\n",
       "      <td>619</td>\n",
       "      <td>France</td>\n",
       "      <td>Female</td>\n",
       "      <td>42</td>\n",
       "      <td>2</td>\n",
       "      <td>0.00</td>\n",
       "      <td>1</td>\n",
       "      <td>1</td>\n",
       "      <td>1</td>\n",
       "      <td>101348.88</td>\n",
       "      <td>1</td>\n",
       "      <td>101348.88</td>\n",
       "    </tr>\n",
       "    <tr>\n",
       "      <th>1</th>\n",
       "      <td>608</td>\n",
       "      <td>Spain</td>\n",
       "      <td>Female</td>\n",
       "      <td>41</td>\n",
       "      <td>1</td>\n",
       "      <td>83807.86</td>\n",
       "      <td>1</td>\n",
       "      <td>0</td>\n",
       "      <td>1</td>\n",
       "      <td>112542.58</td>\n",
       "      <td>0</td>\n",
       "      <td>28734.72</td>\n",
       "    </tr>\n",
       "    <tr>\n",
       "      <th>2</th>\n",
       "      <td>502</td>\n",
       "      <td>France</td>\n",
       "      <td>Female</td>\n",
       "      <td>42</td>\n",
       "      <td>8</td>\n",
       "      <td>159660.80</td>\n",
       "      <td>3</td>\n",
       "      <td>1</td>\n",
       "      <td>0</td>\n",
       "      <td>113931.57</td>\n",
       "      <td>1</td>\n",
       "      <td>45729.23</td>\n",
       "    </tr>\n",
       "    <tr>\n",
       "      <th>3</th>\n",
       "      <td>699</td>\n",
       "      <td>France</td>\n",
       "      <td>Female</td>\n",
       "      <td>39</td>\n",
       "      <td>1</td>\n",
       "      <td>0.00</td>\n",
       "      <td>2</td>\n",
       "      <td>0</td>\n",
       "      <td>0</td>\n",
       "      <td>93826.63</td>\n",
       "      <td>0</td>\n",
       "      <td>93826.63</td>\n",
       "    </tr>\n",
       "    <tr>\n",
       "      <th>4</th>\n",
       "      <td>850</td>\n",
       "      <td>Spain</td>\n",
       "      <td>Female</td>\n",
       "      <td>43</td>\n",
       "      <td>2</td>\n",
       "      <td>125510.82</td>\n",
       "      <td>1</td>\n",
       "      <td>1</td>\n",
       "      <td>1</td>\n",
       "      <td>79084.10</td>\n",
       "      <td>0</td>\n",
       "      <td>46426.72</td>\n",
       "    </tr>\n",
       "  </tbody>\n",
       "</table>\n",
       "</div>"
      ],
      "text/plain": [
       "   CreditScore Geography  Gender  Age  Tenure    Balance  NumOfProducts  \\\n",
       "0          619    France  Female   42       2       0.00              1   \n",
       "1          608     Spain  Female   41       1   83807.86              1   \n",
       "2          502    France  Female   42       8  159660.80              3   \n",
       "3          699    France  Female   39       1       0.00              2   \n",
       "4          850     Spain  Female   43       2  125510.82              1   \n",
       "\n",
       "   HasCrCard  IsActiveMember  EstimatedSalary  Exited  withdrawing  \n",
       "0          1               1        101348.88       1    101348.88  \n",
       "1          0               1        112542.58       0     28734.72  \n",
       "2          1               0        113931.57       1     45729.23  \n",
       "3          0               0         93826.63       0     93826.63  \n",
       "4          1               1         79084.10       0     46426.72  "
      ]
     },
     "execution_count": 13,
     "metadata": {},
     "output_type": "execute_result"
    }
   ],
   "source": [
    "# Apply some feature engineering\n",
    "df[\"withdrawing\"] = abs(df[\"EstimatedSalary\"] - df[\"Balance\"])\n",
    "df.head()"
   ]
  },
  {
   "cell_type": "code",
   "execution_count": 14,
   "metadata": {},
   "outputs": [
    {
     "data": {
      "text/plain": [
       "Geography\n",
       "France     0.5014\n",
       "Germany    0.2509\n",
       "Spain      0.2477\n",
       "Name: proportion, dtype: float64"
      ]
     },
     "execution_count": 14,
     "metadata": {},
     "output_type": "execute_result"
    }
   ],
   "source": [
    "df[\"Geography\"].value_counts(normalize=True)"
   ]
  },
  {
   "cell_type": "code",
   "execution_count": 15,
   "metadata": {},
   "outputs": [
    {
     "data": {
      "text/plain": [
       "Gender\n",
       "Male      0.5457\n",
       "Female    0.4543\n",
       "Name: proportion, dtype: float64"
      ]
     },
     "execution_count": 15,
     "metadata": {},
     "output_type": "execute_result"
    }
   ],
   "source": [
    "df[\"Gender\"].value_counts(normalize=True)"
   ]
  },
  {
   "cell_type": "code",
   "execution_count": 16,
   "metadata": {},
   "outputs": [
    {
     "data": {
      "text/plain": [
       "Exited\n",
       "0    0.7963\n",
       "1    0.2037\n",
       "Name: proportion, dtype: float64"
      ]
     },
     "execution_count": 16,
     "metadata": {},
     "output_type": "execute_result"
    }
   ],
   "source": [
    "df[\"Exited\"].value_counts(normalize=True)"
   ]
  },
  {
   "cell_type": "markdown",
   "metadata": {},
   "source": [
    "---"
   ]
  },
  {
   "cell_type": "markdown",
   "metadata": {},
   "source": [
    "### `Data Viz & Data Handling`"
   ]
  },
  {
   "cell_type": "markdown",
   "metadata": {},
   "source": [
    "* `Univariate Viz`"
   ]
  },
  {
   "cell_type": "code",
   "execution_count": 17,
   "metadata": {},
   "outputs": [
    {
     "data": {
      "text/plain": [
       "CreditScore          int64\n",
       "Geography           object\n",
       "Gender              object\n",
       "Age                  int64\n",
       "Tenure               int64\n",
       "Balance            float64\n",
       "NumOfProducts        int64\n",
       "HasCrCard            int64\n",
       "IsActiveMember       int64\n",
       "EstimatedSalary    float64\n",
       "Exited               int64\n",
       "withdrawing        float64\n",
       "dtype: object"
      ]
     },
     "execution_count": 17,
     "metadata": {},
     "output_type": "execute_result"
    }
   ],
   "source": [
    "df.dtypes"
   ]
  },
  {
   "cell_type": "code",
   "execution_count": 18,
   "metadata": {},
   "outputs": [
    {
     "data": {
      "image/png": "[encoded data removed]",
      "text/plain": [
       "<Figure size 2000x1000 with 12 Axes>"
      ]
     },
     "metadata": {},
     "output_type": "display_data"
    }
   ],
   "source": [
    "df.hist(bins=50, figsize=(20, 10))\n",
    "plt.show()"
   ]
  },
  {
   "cell_type": "code",
   "execution_count": 19,
   "metadata": {},
   "outputs": [],
   "source": [
    "# Handle Outliers\n",
    "df.drop(index=df[df[\"Age\"] > 80].index.tolist(), axis=0, inplace=True)"
   ]
  },
  {
   "cell_type": "code",
   "execution_count": 20,
   "metadata": {},
   "outputs": [
    {
     "data": {
      "image/png": "[encoded data removed]",
      "text/plain": [
       "<Figure size 2000x1000 with 12 Axes>"
      ]
     },
     "metadata": {},
     "output_type": "display_data"
    }
   ],
   "source": [
    "# Histograms after handling age coloumn\n",
    "df.hist(bins=50, figsize=(20, 10)) \n",
    "plt.show()"
   ]
  },
  {
   "cell_type": "code",
   "execution_count": 21,
   "metadata": {},
   "outputs": [
    {
     "data": {
      "image/png": "[encoded data removed]",
      "text/plain": [
       "<Figure size 640x480 with 1 Axes>"
      ]
     },
     "metadata": {},
     "output_type": "display_data"
    }
   ],
   "source": [
    "# Countplot for Geography Column\n",
    "sns.countplot(df, x=\"Geography\", order=df[\"Geography\"].value_counts().index.tolist(), palette=\"Set2\", legend=False, hue=\"Geography\")\n",
    "\n",
    "plt.title(\"Country distribution\")\n",
    "plt.xlabel(\"Country\")\n",
    "plt.ylabel(\"Count\")\n",
    "plt.show()"
   ]
  },
  {
   "cell_type": "code",
   "execution_count": 22,
   "metadata": {},
   "outputs": [
    {
     "data": {
      "image/png": "[encoded data removed]",
      "text/plain": [
       "<Figure size 640x480 with 1 Axes>"
      ]
     },
     "metadata": {},
     "output_type": "display_data"
    }
   ],
   "source": [
    "# Countplot for Gender Column\n",
    "sns.countplot(df, x=\"Gender\", order=df[\"Gender\"].value_counts().index.tolist(), legend=False, hue=\"Gender\")\n",
    "\n",
    "plt.title(\"Gender distribution\")\n",
    "plt.xlabel(\"Gender\")\n",
    "plt.ylabel(\"Count\")\n",
    "plt.show()"
   ]
  },
  {
   "cell_type": "code",
   "execution_count": 23,
   "metadata": {},
   "outputs": [
    {
     "data": {
      "image/png": "[encoded data removed]",
      "text/plain": [
       "<Figure size 640x480 with 1 Axes>"
      ]
     },
     "metadata": {},
     "output_type": "display_data"
    }
   ],
   "source": [
    "# Countplot for Exited target\n",
    "sns.countplot(df, x=\"Exited\", order=df[\"Exited\"].value_counts().index.tolist(), legend=False, hue=\"Exited\")\n",
    "\n",
    "plt.title(\"Exited distribution\")\n",
    "plt.xlabel(\"Exited\")\n",
    "plt.ylabel(\"Count\")\n",
    "plt.show()"
   ]
  },
  {
   "cell_type": "code",
   "execution_count": 24,
   "metadata": {},
   "outputs": [
    {
     "data": {
      "image/png": "[encoded data removed]",
      "text/plain": [
       "<Figure size 640x480 with 1 Axes>"
      ]
     },
     "metadata": {},
     "output_type": "display_data"
    }
   ],
   "source": [
    "sns.boxplot(df, y=df[\"Balance\"])\n",
    "plt.show()"
   ]
  },
  {
   "cell_type": "markdown",
   "metadata": {},
   "source": [
    "* `Bivariante Viz`"
   ]
  },
  {
   "cell_type": "code",
   "execution_count": 25,
   "metadata": {},
   "outputs": [
    {
     "data": {
      "text/plain": [
       "Gender\n",
       "Female    100575.998277\n",
       "Male       99671.901194\n",
       "Name: EstimatedSalary, dtype: float64"
      ]
     },
     "execution_count": 25,
     "metadata": {},
     "output_type": "execute_result"
    }
   ],
   "source": [
    "# Average Salary per Gender\n",
    "df[[\"Gender\", 'EstimatedSalary']].groupby(\"Gender\")[\"EstimatedSalary\"].mean()"
   ]
  },
  {
   "cell_type": "code",
   "execution_count": 26,
   "metadata": {},
   "outputs": [
    {
     "data": {
      "image/png": "[encoded data removed]",
      "text/plain": [
       "<Figure size 640x480 with 1 Axes>"
      ]
     },
     "metadata": {},
     "output_type": "display_data"
    }
   ],
   "source": [
    "# Average Salary per Gender using barplot\n",
    "sns.barplot(df, x=\"Gender\", y=\"EstimatedSalary\", estimator='mean')\n",
    "plt.show()"
   ]
  },
  {
   "cell_type": "code",
   "execution_count": 27,
   "metadata": {},
   "outputs": [
    {
     "data": {
      "image/png": "[encoded data removed]",
      "text/plain": [
       "<Figure size 640x480 with 1 Axes>"
      ]
     },
     "metadata": {},
     "output_type": "display_data"
    }
   ],
   "source": [
    "# Realation between Tenure and Exited\n",
    "sns.countplot(data=df, x='Tenure', hue='Exited')\n",
    "plt.show()"
   ]
  },
  {
   "cell_type": "code",
   "execution_count": 28,
   "metadata": {},
   "outputs": [
    {
     "data": {
      "text/plain": [
       "Geography\n",
       "France     809\n",
       "Germany    814\n",
       "Spain      413\n",
       "Name: Exited, dtype: int64"
      ]
     },
     "execution_count": 28,
     "metadata": {},
     "output_type": "execute_result"
    }
   ],
   "source": [
    "df[[\"Geography\", 'Exited']].groupby(\"Geography\")[\"Exited\"].sum()"
   ]
  },
  {
   "cell_type": "code",
   "execution_count": 29,
   "metadata": {},
   "outputs": [
    {
     "data": {
      "image/png": "[encoded data removed]",
      "text/plain": [
       "<Figure size 640x480 with 1 Axes>"
      ]
     },
     "metadata": {},
     "output_type": "display_data"
    }
   ],
   "source": [
    "# Relation between Geography and exited customers\n",
    "sns.countplot(df, x=\"Geography\", hue=\"Exited\")\n",
    "plt.show()"
   ]
  },
  {
   "cell_type": "markdown",
   "metadata": {},
   "source": [
    "---"
   ]
  },
  {
   "cell_type": "markdown",
   "metadata": {},
   "source": [
    "* `Splitting dataset into train & test`"
   ]
  },
  {
   "cell_type": "code",
   "execution_count": 30,
   "metadata": {},
   "outputs": [
    {
     "data": {
      "text/plain": [
       "Exited\n",
       "0    0.796155\n",
       "1    0.203845\n",
       "Name: proportion, dtype: float64"
      ]
     },
     "execution_count": 30,
     "metadata": {},
     "output_type": "execute_result"
    }
   ],
   "source": [
    "X = df.drop(columns=\"Exited\", axis=1)\n",
    "y = df[\"Exited\"]\n",
    "\n",
    "y.value_counts(normalize=True)"
   ]
  },
  {
   "cell_type": "code",
   "execution_count": 31,
   "metadata": {},
   "outputs": [
    {
     "name": "stdout",
     "output_type": "stream",
     "text": [
      "X_train.shape \t (7990, 11)\n",
      "y_train.shape \t (7990,)\n",
      "7990.400000000001\n",
      "******************************\n",
      "X_test.shape \t (1998, 11)\n",
      "y_test.shape \t (1998,)\n",
      "1997.6000000000001\n"
     ]
    }
   ],
   "source": [
    "X_train, X_test, y_train, y_test = train_test_split(X, y, test_size=0.2, shuffle=True, random_state=42, stratify=y)\n",
    "\n",
    "## Train data stratified on y\n",
    "# train data = 0.8 * 0.796155 * 9988 + 0.8 * 0.203845 * 9988\n",
    "print('X_train.shape \\t', X_train.shape)\n",
    "print('y_train.shape \\t', y_train.shape)\n",
    "print(0.8 * 0.796155 * 9988 + 0.8 * 0.203845 * 9988)\n",
    "print('***'*10)\n",
    "## Test data stratified on y\n",
    "# test data = 0.2 * 0.796155 * 9988 + 0.2 * 0.203845 * 9988\n",
    "print('X_test.shape \\t', X_test.shape)\n",
    "print('y_test.shape \\t', y_test.shape)\n",
    "print(0.2 * 0.796155 * 9988 + 0.2 * 0.203845 * 9988)"
   ]
  },
  {
   "cell_type": "code",
   "execution_count": 32,
   "metadata": {},
   "outputs": [
    {
     "data": {
      "image/png": "[encoded data removed]",
      "text/plain": [
       "<Figure size 2000x400 with 3 Axes>"
      ]
     },
     "metadata": {},
     "output_type": "display_data"
    }
   ],
   "source": [
    "## plottting to check\n",
    "fig, ax = plt.subplots(1, 3, figsize=(20, 4))\n",
    "\n",
    "## Whole dataset\n",
    "plt.sca(ax[0])\n",
    "sns.countplot(x=y)\n",
    "plt.title('For Whole Datast')\n",
    "plt.ylabel('Count')\n",
    "plt.xticks(ticks=[0, 1], labels=['No', 'Yes'])\n",
    "\n",
    "## train\n",
    "plt.sca(ax[1])\n",
    "sns.countplot(x=y_train)\n",
    "plt.title('For Training Datast')\n",
    "plt.ylabel('')\n",
    "plt.xticks(ticks=[0, 1], labels=['No', 'Yes'])\n",
    "\n",
    "## test\n",
    "plt.sca(ax[2])\n",
    "sns.countplot(x=y_test)\n",
    "plt.title('For Testing Datast')\n",
    "plt.ylabel('')\n",
    "plt.xticks(ticks=[0, 1], labels=['No', 'Yes'])\n",
    "plt.show()"
   ]
  },
  {
   "cell_type": "markdown",
   "metadata": {},
   "source": [
    "---"
   ]
  },
  {
   "cell_type": "markdown",
   "metadata": {},
   "source": [
    "* `Data preprocessing & Pipline`"
   ]
  },
  {
   "cell_type": "code",
   "execution_count": 33,
   "metadata": {},
   "outputs": [
    {
     "data": {
      "text/html": [
       "<div>\n",
       "<style scoped>\n",
       "    .dataframe tbody tr th:only-of-type {\n",
       "        vertical-align: middle;\n",
       "    }\n",
       "\n",
       "    .dataframe tbody tr th {\n",
       "        vertical-align: top;\n",
       "    }\n",
       "\n",
       "    .dataframe thead th {\n",
       "        text-align: right;\n",
       "    }\n",
       "</style>\n",
       "<table border=\"1\" class=\"dataframe\">\n",
       "  <thead>\n",
       "    <tr style=\"text-align: right;\">\n",
       "      <th></th>\n",
       "      <th>CreditScore</th>\n",
       "      <th>Geography</th>\n",
       "      <th>Gender</th>\n",
       "      <th>Age</th>\n",
       "      <th>Tenure</th>\n",
       "      <th>Balance</th>\n",
       "      <th>NumOfProducts</th>\n",
       "      <th>HasCrCard</th>\n",
       "      <th>IsActiveMember</th>\n",
       "      <th>EstimatedSalary</th>\n",
       "      <th>withdrawing</th>\n",
       "    </tr>\n",
       "  </thead>\n",
       "  <tbody>\n",
       "    <tr>\n",
       "      <th>3544</th>\n",
       "      <td>731</td>\n",
       "      <td>Spain</td>\n",
       "      <td>Male</td>\n",
       "      <td>33</td>\n",
       "      <td>1</td>\n",
       "      <td>0.00</td>\n",
       "      <td>1</td>\n",
       "      <td>1</td>\n",
       "      <td>0</td>\n",
       "      <td>130726.96</td>\n",
       "      <td>130726.96</td>\n",
       "    </tr>\n",
       "    <tr>\n",
       "      <th>1884</th>\n",
       "      <td>656</td>\n",
       "      <td>France</td>\n",
       "      <td>Male</td>\n",
       "      <td>35</td>\n",
       "      <td>6</td>\n",
       "      <td>0.00</td>\n",
       "      <td>2</td>\n",
       "      <td>1</td>\n",
       "      <td>0</td>\n",
       "      <td>1485.27</td>\n",
       "      <td>1485.27</td>\n",
       "    </tr>\n",
       "    <tr>\n",
       "      <th>8685</th>\n",
       "      <td>772</td>\n",
       "      <td>France</td>\n",
       "      <td>Male</td>\n",
       "      <td>43</td>\n",
       "      <td>6</td>\n",
       "      <td>0.00</td>\n",
       "      <td>2</td>\n",
       "      <td>1</td>\n",
       "      <td>1</td>\n",
       "      <td>57675.88</td>\n",
       "      <td>57675.88</td>\n",
       "    </tr>\n",
       "    <tr>\n",
       "      <th>6259</th>\n",
       "      <td>585</td>\n",
       "      <td>Germany</td>\n",
       "      <td>Female</td>\n",
       "      <td>28</td>\n",
       "      <td>9</td>\n",
       "      <td>135337.49</td>\n",
       "      <td>2</td>\n",
       "      <td>1</td>\n",
       "      <td>1</td>\n",
       "      <td>40385.61</td>\n",
       "      <td>94951.88</td>\n",
       "    </tr>\n",
       "    <tr>\n",
       "      <th>4136</th>\n",
       "      <td>651</td>\n",
       "      <td>France</td>\n",
       "      <td>Male</td>\n",
       "      <td>44</td>\n",
       "      <td>2</td>\n",
       "      <td>0.00</td>\n",
       "      <td>3</td>\n",
       "      <td>1</td>\n",
       "      <td>0</td>\n",
       "      <td>102530.35</td>\n",
       "      <td>102530.35</td>\n",
       "    </tr>\n",
       "  </tbody>\n",
       "</table>\n",
       "</div>"
      ],
      "text/plain": [
       "      CreditScore Geography  Gender  Age  Tenure    Balance  NumOfProducts  \\\n",
       "3544          731     Spain    Male   33       1       0.00              1   \n",
       "1884          656    France    Male   35       6       0.00              2   \n",
       "8685          772    France    Male   43       6       0.00              2   \n",
       "6259          585   Germany  Female   28       9  135337.49              2   \n",
       "4136          651    France    Male   44       2       0.00              3   \n",
       "\n",
       "      HasCrCard  IsActiveMember  EstimatedSalary  withdrawing  \n",
       "3544          1               0        130726.96    130726.96  \n",
       "1884          1               0          1485.27      1485.27  \n",
       "8685          1               1         57675.88     57675.88  \n",
       "6259          1               1         40385.61     94951.88  \n",
       "4136          1               0        102530.35    102530.35  "
      ]
     },
     "execution_count": 33,
     "metadata": {},
     "output_type": "execute_result"
    }
   ],
   "source": [
    "X_train.head()"
   ]
  },
  {
   "cell_type": "code",
   "execution_count": 34,
   "metadata": {},
   "outputs": [
    {
     "data": {
      "text/plain": [
       "Index(['CreditScore', 'Geography', 'Gender', 'Age', 'Tenure', 'Balance',\n",
       "       'NumOfProducts', 'HasCrCard', 'IsActiveMember', 'EstimatedSalary',\n",
       "       'withdrawing'],\n",
       "      dtype='object')"
      ]
     },
     "execution_count": 34,
     "metadata": {},
     "output_type": "execute_result"
    }
   ],
   "source": [
    "X_train.columns"
   ]
  },
  {
   "cell_type": "code",
   "execution_count": 35,
   "metadata": {},
   "outputs": [
    {
     "name": "stdout",
     "output_type": "stream",
     "text": [
      "numerical columns: ['withdrawing', 'CreditScore', 'Age', 'EstimatedSalary', 'Balance']\n",
      "categorical columns: ['Geography', 'Gender']\n",
      "Ready columns ['Tenure', 'NumOfProducts', 'HasCrCard', 'IsActiveMember']\n"
     ]
    },
    {
     "data": {
      "text/plain": [
       "11"
      ]
     },
     "execution_count": 35,
     "metadata": {},
     "output_type": "execute_result"
    }
   ],
   "source": [
    "# Splitting the columns\n",
    "num_cols = []\n",
    "categ_cols = []\n",
    "\n",
    "for col in X_train.columns:\n",
    "    if isinstance(X_train[col][0], str):\n",
    "        categ_cols.append(col)\n",
    "    else:\n",
    "        num_cols.append(col)\n",
    "\n",
    "ready_cols = [\"Tenure\",\t\"NumOfProducts\", \"HasCrCard\", \"IsActiveMember\"]\n",
    "num_cols = list(set(num_cols) - set(ready_cols))\n",
    "\n",
    "print(f\"numerical columns: {num_cols}\")\n",
    "print(f\"categorical columns: {categ_cols}\")\n",
    "print(f\"Ready columns {ready_cols}\")\n",
    "len(X_train.columns)"
   ]
  },
  {
   "cell_type": "code",
   "execution_count": 36,
   "metadata": {},
   "outputs": [],
   "source": [
    "# Pipline\n",
    "\n",
    "# Numerical: num_cols --> Imputing using median, and StandardScaler\n",
    "# Categorical: categ_cols --> Imputing using mode, and OHE\n",
    "# Ready Cols: ready_cols --> Imputing mode\n",
    "\n",
    "# For numerical\n",
    "num_pipline = Pipeline(steps=[\n",
    "                    (\"imputer\", SimpleImputer(strategy=\"median\")),\n",
    "                    (\"scaler\", StandardScaler())\n",
    "])\n",
    "\n",
    "# For Categorical\n",
    "categ_pipline = Pipeline(steps=[\n",
    "    (\"imputer\", SimpleImputer(strategy='most_frequent')),\n",
    "    (\"ohe\", OneHotEncoder(sparse_output=False, drop='first'))\n",
    "])\n",
    "\n",
    "# For Ready Cols\n",
    "ready_pipeline = Pipeline(steps=[\n",
    "                    ('imputer', SimpleImputer(strategy='most_frequent'))\n",
    "                ])\n",
    "\n",
    "all_pipeline = ColumnTransformer(transformers=[\n",
    "    (\"numerical\", num_pipline, num_cols), \n",
    "    (\"categorical\", categ_pipline, categ_cols),\n",
    "    (\"ready\", ready_pipeline, ready_cols)\n",
    "])\n",
    "\n",
    "# Apply\n",
    "X_train_final = all_pipeline.fit_transform(X_train)\n",
    "X_test_final = all_pipeline.transform(X_test)"
   ]
  },
  {
   "cell_type": "code",
   "execution_count": 37,
   "metadata": {},
   "outputs": [
    {
     "data": {
      "text/html": [
       "<div>\n",
       "<style scoped>\n",
       "    .dataframe tbody tr th:only-of-type {\n",
       "        vertical-align: middle;\n",
       "    }\n",
       "\n",
       "    .dataframe tbody tr th {\n",
       "        vertical-align: top;\n",
       "    }\n",
       "\n",
       "    .dataframe thead th {\n",
       "        text-align: right;\n",
       "    }\n",
       "</style>\n",
       "<table border=\"1\" class=\"dataframe\">\n",
       "  <thead>\n",
       "    <tr style=\"text-align: right;\">\n",
       "      <th></th>\n",
       "      <th>withdrawing</th>\n",
       "      <th>CreditScore</th>\n",
       "      <th>Age</th>\n",
       "      <th>EstimatedSalary</th>\n",
       "      <th>Balance</th>\n",
       "      <th>Geography_Germany</th>\n",
       "      <th>Geography_Spain</th>\n",
       "      <th>Gender_Male</th>\n",
       "      <th>Tenure</th>\n",
       "      <th>NumOfProducts</th>\n",
       "      <th>HasCrCard</th>\n",
       "      <th>IsActiveMember</th>\n",
       "    </tr>\n",
       "  </thead>\n",
       "  <tbody>\n",
       "    <tr>\n",
       "      <th>0</th>\n",
       "      <td>1.174927</td>\n",
       "      <td>0.838045</td>\n",
       "      <td>-0.562626</td>\n",
       "      <td>0.524526</td>\n",
       "      <td>-1.236191</td>\n",
       "      <td>0.0</td>\n",
       "      <td>1.0</td>\n",
       "      <td>1.0</td>\n",
       "      <td>1.0</td>\n",
       "      <td>1.0</td>\n",
       "      <td>1.0</td>\n",
       "      <td>0.0</td>\n",
       "    </tr>\n",
       "    <tr>\n",
       "      <th>1</th>\n",
       "      <td>-1.397426</td>\n",
       "      <td>0.062850</td>\n",
       "      <td>-0.368793</td>\n",
       "      <td>-1.725057</td>\n",
       "      <td>-1.236191</td>\n",
       "      <td>0.0</td>\n",
       "      <td>0.0</td>\n",
       "      <td>1.0</td>\n",
       "      <td>6.0</td>\n",
       "      <td>2.0</td>\n",
       "      <td>1.0</td>\n",
       "      <td>0.0</td>\n",
       "    </tr>\n",
       "    <tr>\n",
       "      <th>2</th>\n",
       "      <td>-0.279040</td>\n",
       "      <td>1.261818</td>\n",
       "      <td>0.406541</td>\n",
       "      <td>-0.747003</td>\n",
       "      <td>-1.236191</td>\n",
       "      <td>0.0</td>\n",
       "      <td>0.0</td>\n",
       "      <td>1.0</td>\n",
       "      <td>6.0</td>\n",
       "      <td>2.0</td>\n",
       "      <td>1.0</td>\n",
       "      <td>1.0</td>\n",
       "    </tr>\n",
       "    <tr>\n",
       "      <th>3</th>\n",
       "      <td>0.462880</td>\n",
       "      <td>-0.671001</td>\n",
       "      <td>-1.047210</td>\n",
       "      <td>-1.047957</td>\n",
       "      <td>0.939502</td>\n",
       "      <td>1.0</td>\n",
       "      <td>0.0</td>\n",
       "      <td>0.0</td>\n",
       "      <td>9.0</td>\n",
       "      <td>2.0</td>\n",
       "      <td>1.0</td>\n",
       "      <td>1.0</td>\n",
       "    </tr>\n",
       "    <tr>\n",
       "      <th>4</th>\n",
       "      <td>0.613718</td>\n",
       "      <td>0.011170</td>\n",
       "      <td>0.503457</td>\n",
       "      <td>0.033735</td>\n",
       "      <td>-1.236191</td>\n",
       "      <td>0.0</td>\n",
       "      <td>0.0</td>\n",
       "      <td>1.0</td>\n",
       "      <td>2.0</td>\n",
       "      <td>3.0</td>\n",
       "      <td>1.0</td>\n",
       "      <td>0.0</td>\n",
       "    </tr>\n",
       "    <tr>\n",
       "      <th>...</th>\n",
       "      <td>...</td>\n",
       "      <td>...</td>\n",
       "      <td>...</td>\n",
       "      <td>...</td>\n",
       "      <td>...</td>\n",
       "      <td>...</td>\n",
       "      <td>...</td>\n",
       "      <td>...</td>\n",
       "      <td>...</td>\n",
       "      <td>...</td>\n",
       "      <td>...</td>\n",
       "      <td>...</td>\n",
       "    </tr>\n",
       "    <tr>\n",
       "      <th>7985</th>\n",
       "      <td>-1.035824</td>\n",
       "      <td>0.796701</td>\n",
       "      <td>-1.047210</td>\n",
       "      <td>-1.408828</td>\n",
       "      <td>-1.236191</td>\n",
       "      <td>0.0</td>\n",
       "      <td>0.0</td>\n",
       "      <td>1.0</td>\n",
       "      <td>5.0</td>\n",
       "      <td>2.0</td>\n",
       "      <td>0.0</td>\n",
       "      <td>1.0</td>\n",
       "    </tr>\n",
       "    <tr>\n",
       "      <th>7986</th>\n",
       "      <td>-0.300607</td>\n",
       "      <td>0.496959</td>\n",
       "      <td>1.278791</td>\n",
       "      <td>0.918716</td>\n",
       "      <td>0.319672</td>\n",
       "      <td>1.0</td>\n",
       "      <td>0.0</td>\n",
       "      <td>1.0</td>\n",
       "      <td>8.0</td>\n",
       "      <td>1.0</td>\n",
       "      <td>1.0</td>\n",
       "      <td>1.0</td>\n",
       "    </tr>\n",
       "    <tr>\n",
       "      <th>7987</th>\n",
       "      <td>2.147846</td>\n",
       "      <td>0.279904</td>\n",
       "      <td>-1.337960</td>\n",
       "      <td>1.375367</td>\n",
       "      <td>-1.236191</td>\n",
       "      <td>0.0</td>\n",
       "      <td>0.0</td>\n",
       "      <td>0.0</td>\n",
       "      <td>3.0</td>\n",
       "      <td>2.0</td>\n",
       "      <td>1.0</td>\n",
       "      <td>0.0</td>\n",
       "    </tr>\n",
       "    <tr>\n",
       "      <th>7988</th>\n",
       "      <td>1.444534</td>\n",
       "      <td>0.372928</td>\n",
       "      <td>0.212707</td>\n",
       "      <td>0.760303</td>\n",
       "      <td>-1.236191</td>\n",
       "      <td>0.0</td>\n",
       "      <td>0.0</td>\n",
       "      <td>0.0</td>\n",
       "      <td>10.0</td>\n",
       "      <td>1.0</td>\n",
       "      <td>1.0</td>\n",
       "      <td>1.0</td>\n",
       "    </tr>\n",
       "    <tr>\n",
       "      <th>7989</th>\n",
       "      <td>0.738246</td>\n",
       "      <td>-0.753688</td>\n",
       "      <td>0.115791</td>\n",
       "      <td>0.142638</td>\n",
       "      <td>-1.236191</td>\n",
       "      <td>0.0</td>\n",
       "      <td>1.0</td>\n",
       "      <td>0.0</td>\n",
       "      <td>1.0</td>\n",
       "      <td>2.0</td>\n",
       "      <td>1.0</td>\n",
       "      <td>1.0</td>\n",
       "    </tr>\n",
       "  </tbody>\n",
       "</table>\n",
       "<p>7990 rows × 12 columns</p>\n",
       "</div>"
      ],
      "text/plain": [
       "      withdrawing  CreditScore       Age  EstimatedSalary   Balance  \\\n",
       "0        1.174927     0.838045 -0.562626         0.524526 -1.236191   \n",
       "1       -1.397426     0.062850 -0.368793        -1.725057 -1.236191   \n",
       "2       -0.279040     1.261818  0.406541        -0.747003 -1.236191   \n",
       "3        0.462880    -0.671001 -1.047210        -1.047957  0.939502   \n",
       "4        0.613718     0.011170  0.503457         0.033735 -1.236191   \n",
       "...           ...          ...       ...              ...       ...   \n",
       "7985    -1.035824     0.796701 -1.047210        -1.408828 -1.236191   \n",
       "7986    -0.300607     0.496959  1.278791         0.918716  0.319672   \n",
       "7987     2.147846     0.279904 -1.337960         1.375367 -1.236191   \n",
       "7988     1.444534     0.372928  0.212707         0.760303 -1.236191   \n",
       "7989     0.738246    -0.753688  0.115791         0.142638 -1.236191   \n",
       "\n",
       "      Geography_Germany  Geography_Spain  Gender_Male  Tenure  NumOfProducts  \\\n",
       "0                   0.0              1.0          1.0     1.0            1.0   \n",
       "1                   0.0              0.0          1.0     6.0            2.0   \n",
       "2                   0.0              0.0          1.0     6.0            2.0   \n",
       "3                   1.0              0.0          0.0     9.0            2.0   \n",
       "4                   0.0              0.0          1.0     2.0            3.0   \n",
       "...                 ...              ...          ...     ...            ...   \n",
       "7985                0.0              0.0          1.0     5.0            2.0   \n",
       "7986                1.0              0.0          1.0     8.0            1.0   \n",
       "7987                0.0              0.0          0.0     3.0            2.0   \n",
       "7988                0.0              0.0          0.0    10.0            1.0   \n",
       "7989                0.0              1.0          0.0     1.0            2.0   \n",
       "\n",
       "      HasCrCard  IsActiveMember  \n",
       "0           1.0             0.0  \n",
       "1           1.0             0.0  \n",
       "2           1.0             1.0  \n",
       "3           1.0             1.0  \n",
       "4           1.0             0.0  \n",
       "...         ...             ...  \n",
       "7985        0.0             1.0  \n",
       "7986        1.0             1.0  \n",
       "7987        1.0             0.0  \n",
       "7988        1.0             1.0  \n",
       "7989        1.0             1.0  \n",
       "\n",
       "[7990 rows x 12 columns]"
      ]
     },
     "execution_count": 37,
     "metadata": {},
     "output_type": "execute_result"
    }
   ],
   "source": [
    "# If you want to see the processed array\n",
    "output_cols = num_cols + all_pipeline.named_transformers_['categorical'].named_steps['ohe'].get_feature_names_out(categ_cols).tolist() + ready_cols\n",
    "\n",
    "pd.DataFrame(X_train_final, columns=output_cols)"
   ]
  },
  {
   "cell_type": "code",
   "execution_count": 38,
   "metadata": {},
   "outputs": [
    {
     "data": {
      "text/plain": [
       "((7990, 12), (7990,))"
      ]
     },
     "execution_count": 38,
     "metadata": {},
     "output_type": "execute_result"
    }
   ],
   "source": [
    "# Check train\n",
    "X_train_final.shape, y_train.shape"
   ]
  },
  {
   "cell_type": "code",
   "execution_count": 39,
   "metadata": {},
   "outputs": [
    {
     "data": {
      "text/plain": [
       "((1998, 12), (1998,))"
      ]
     },
     "execution_count": 39,
     "metadata": {},
     "output_type": "execute_result"
    }
   ],
   "source": [
    "# Check test\n",
    "X_test_final.shape, y_test.shape"
   ]
  },
  {
   "cell_type": "code",
   "execution_count": 40,
   "metadata": {},
   "outputs": [],
   "source": [
    "# Dump the pipeline locally in ARTIFACTS_FOLDER_PATH\n",
    "ARTIFACTS_FOLDER_PATH = os.path.join(os.getcwd(), '..', 'artifacts')\n",
    "os.makedirs(ARTIFACTS_FOLDER_PATH, exist_ok=True)"
   ]
  },
  {
   "cell_type": "code",
   "execution_count": null,
   "metadata": {},
   "outputs": [
    {
     "data": {
      "text/plain": [
       "['c:\\\\Users\\\\YUSSEF\\\\OneDrive\\\\Desktop\\\\Projects\\\\Customer_Churn_Model\\\\Notebooks\\\\..\\\\artifacts\\\\pipeline.pkl']"
      ]
     },
     "execution_count": 130,
     "metadata": {},
     "output_type": "execute_result"
    }
   ],
   "source": [
    "# Dump the pipeline locally --> Serialzation\n",
    "joblib.dump(all_pipeline, os.path.join(ARTIFACTS_FOLDER_PATH, 'pipeline.pkl'))"
   ]
  },
  {
   "cell_type": "markdown",
   "metadata": {},
   "source": [
    "---"
   ]
  },
  {
   "cell_type": "markdown",
   "metadata": {},
   "source": [
    "* `Dealing with Imbalancing data`"
   ]
  },
  {
   "cell_type": "code",
   "execution_count": 41,
   "metadata": {},
   "outputs": [],
   "source": [
    "# 1. Wihtout Considering any solution for dealing with imbalanced data --- (X_train_final, y_train)\n",
    "\n",
    "# 2. Use class_weight for solving imbalanced weight --- (X_train_final, y_train) & model class_weigth=dict_weights\n",
    "vals_count = 1 - (np.bincount(y_train) / len(y_train))\n",
    "vals_count = vals_count / np.sum(vals_count)\n",
    "dict_weights = {}\n",
    "for i in range(2):  # 2 classes (0, 1)\n",
    "    dict_weights[i] = vals_count[i]\n"
   ]
  },
  {
   "cell_type": "code",
   "execution_count": 42,
   "metadata": {},
   "outputs": [],
   "source": [
    "# 3. Consider using oversampling using SMOTE   --- (X_train_resampeld, y_train_resampled)\n",
    "over = SMOTE(sampling_strategy=0.65)\n",
    "X_train_resampeld, y_train_resampled = over.fit_resample(X_train_final, y_train)"
   ]
  },
  {
   "cell_type": "markdown",
   "metadata": {},
   "source": [
    "---"
   ]
  },
  {
   "cell_type": "markdown",
   "metadata": {},
   "source": [
    "### `Building Models`"
   ]
  },
  {
   "cell_type": "markdown",
   "metadata": {},
   "source": [
    "> Evaluation Metric is F1-score"
   ]
  },
  {
   "cell_type": "markdown",
   "metadata": {},
   "source": [
    "* `Logistic Regression`"
   ]
  },
  {
   "cell_type": "code",
   "execution_count": 151,
   "metadata": {},
   "outputs": [
    {
     "name": "stdout",
     "output_type": "stream",
     "text": [
      "The f1_score using Logistic model for Training Dataset is: 31.275\n",
      "The f1_score using Logistic model for Testing Dataset is: 35.439\n"
     ]
    }
   ],
   "source": [
    "# 1. Using logistic -- without considering the imabalancing data\n",
    "log_clf = LogisticRegression(C=1.5, penalty='l2')\n",
    "log_clf.fit(X_train_final, y_train)\n",
    "\n",
    "# Predict and evalute\n",
    "y_pred_train_log = log_clf.predict(X_train_final)\n",
    "y_pred_test_log = log_clf.predict(X_test_final)\n",
    "\n",
    "# F1-Score\n",
    "f1_train_log = f1_score(y_train, y_pred_train_log)\n",
    "f1_test_log = f1_score(y_test, y_pred_test_log)\n",
    "\n",
    "print(f'The f1_score using Logistic model for Training Dataset is: {f1_train_log*100:.3f}')\n",
    "print(f'The f1_score using Logistic model for Testing Dataset is: {f1_test_log*100:.3f}')"
   ]
  },
  {
   "cell_type": "code",
   "execution_count": 152,
   "metadata": {},
   "outputs": [
    {
     "name": "stdout",
     "output_type": "stream",
     "text": [
      "The f1_score using Logistic model for Training Dataset with class_weigths is 50.077\n",
      "The f1_score using Logistic model for Testing Dataset with class_weigths is 48.282\n"
     ]
    }
   ],
   "source": [
    "# 2. Using logisit -- with considering the imabalancing data using class_weights\n",
    "log_clf = LogisticRegression(C=1.5, penalty='l2', class_weight=dict_weights)\n",
    "log_clf.fit(X_train_final, y_train)\n",
    "\n",
    "# Predict and evalute\n",
    "y_pred_train_log = log_clf.predict(X_train_final)\n",
    "y_pred_test_log = log_clf.predict(X_test_final)\n",
    "\n",
    "# F1-Score\n",
    "f1_train_log = f1_score(y_train, y_pred_train_log)\n",
    "f1_test_log = f1_score(y_test, y_pred_test_log)\n",
    "\n",
    "print(f'The f1_score using Logistic model for Training Dataset with class_weigths is {f1_train_log*100:.3f}')\n",
    "print(f'The f1_score using Logistic model for Testing Dataset with class_weigths is {f1_test_log*100:.3f}')"
   ]
  },
  {
   "cell_type": "code",
   "execution_count": 153,
   "metadata": {},
   "outputs": [
    {
     "name": "stdout",
     "output_type": "stream",
     "text": [
      "The f1_score using Logistic model for Training Dataset with SMOTE is 49.426\n",
      "The f1_score using Logistic model for Testing Dataset with SMOTE is 50.056\n"
     ]
    }
   ],
   "source": [
    "# 3. Using logisit -- with considering the imabalancing data using oversampled data (SMOTE)\n",
    "log_clf = LogisticRegression(C=1.5, penalty='l2')\n",
    "log_clf.fit(X_train_resampeld, y_train_resampled)\n",
    "\n",
    "# Predict and evalute\n",
    "y_pred_train_log = log_clf.predict(X_train_final)\n",
    "y_pred_test_log = log_clf.predict(X_test_final)\n",
    "\n",
    "# F1-Score\n",
    "f1_train_log = f1_score(y_train, y_pred_train_log)\n",
    "f1_test_log = f1_score(y_test, y_pred_test_log)\n",
    "\n",
    "\n",
    "print(f'The f1_score using Logistic model for Training Dataset with SMOTE is {f1_train_log*100:.3f}')\n",
    "print(f'The f1_score using Logistic model for Testing Dataset with SMOTE is {f1_test_log*100:.3f}')"
   ]
  },
  {
   "cell_type": "code",
   "execution_count": 154,
   "metadata": {},
   "outputs": [
    {
     "data": {
      "text/plain": [
       "['c:\\\\Users\\\\YUSSEF\\\\OneDrive\\\\Desktop\\\\Projects\\\\Customer_Churn_Model\\\\Notebooks\\\\..\\\\artifacts\\\\logistic-with-smote.pkl']"
      ]
     },
     "execution_count": 154,
     "metadata": {},
     "output_type": "execute_result"
    }
   ],
   "source": [
    "# Dump this model locally\n",
    "joblib.dump(log_clf, os.path.join(ARTIFACTS_FOLDER_PATH, 'logistic-with-smote.pkl'), compress=9)"
   ]
  },
  {
   "cell_type": "markdown",
   "metadata": {},
   "source": [
    "---"
   ]
  },
  {
   "cell_type": "markdown",
   "metadata": {},
   "source": [
    "* `RandomForestClassifier`"
   ]
  },
  {
   "cell_type": "code",
   "execution_count": 155,
   "metadata": {},
   "outputs": [
    {
     "name": "stdout",
     "output_type": "stream",
     "text": [
      "The f1_score using RF model for Training Dataset with class_weights is 61.030\n",
      "The f1_score using RF model for Testing Dataset with class_weights is 59.132\n"
     ]
    }
   ],
   "source": [
    "# 2. Using class_weight\n",
    "forest_clf = RandomForestClassifier(criterion='gini', n_estimators=150, \n",
    "                                    max_depth=5, random_state=45, class_weight=dict_weights)\n",
    "forest_clf.fit(X_train_final, y_train)\n",
    "\n",
    "# Predict and evaluate\n",
    "y_pred_train_forest = forest_clf.predict(X_train_final)\n",
    "y_pred_test_foerst = forest_clf.predict(X_test_final)\n",
    "\n",
    "# Using f1_score\n",
    "f1_train_forest = f1_score(y_train, y_pred_train_forest)\n",
    "f1_test_forest = f1_score(y_test, y_pred_test_foerst)\n",
    "\n",
    "print(f'The f1_score using RF model for Training Dataset with class_weights is {f1_train_forest*100:.3f}')\n",
    "print(f'The f1_score using RF model for Testing Dataset with class_weights is {f1_test_forest*100:.3f}')"
   ]
  },
  {
   "cell_type": "code",
   "execution_count": 156,
   "metadata": {},
   "outputs": [
    {
     "name": "stdout",
     "output_type": "stream",
     "text": [
      "The f1_score using RF model for Training Dataset with SMOTE is 60.372\n",
      "The f1_score using RF model for Testing Dataset with SMOTE is 62.865\n"
     ]
    }
   ],
   "source": [
    "# 3. Using SMOTE\n",
    "forest_clf = RandomForestClassifier(n_estimators=150, max_depth=5, random_state=45)\n",
    "forest_clf.fit(X_train_resampeld, y_train_resampled)\n",
    "\n",
    "# Predict and evaluate\n",
    "y_pred_train_forest = forest_clf.predict(X_train_final)\n",
    "y_pred_test_foerst = forest_clf.predict(X_test_final)\n",
    "\n",
    "# Using f1_score\n",
    "f1_train_forest = f1_score(y_train, y_pred_train_forest)\n",
    "f1_test_forest = f1_score(y_test, y_pred_test_foerst)\n",
    "\n",
    "print(f'The f1_score using RF model for Training Dataset with SMOTE is {f1_train_forest*100:.3f}')\n",
    "print(f'The f1_score using RF model for Testing Dataset with SMOTE is {f1_test_forest*100:.3f}')"
   ]
  },
  {
   "cell_type": "markdown",
   "metadata": {},
   "source": [
    "* `Tunning RF using GridSearchCV`"
   ]
  },
  {
   "cell_type": "code",
   "execution_count": 163,
   "metadata": {},
   "outputs": [
    {
     "name": "stdout",
     "output_type": "stream",
     "text": [
      "Fitting 5 folds for each of 32 candidates, totalling 160 fits\n",
      "[CV 1/5] END ......max_depth=5, n_estimators=50;, score=0.584 total time=   0.4s\n",
      "[CV 2/5] END ......max_depth=5, n_estimators=50;, score=0.586 total time=   0.3s\n",
      "[CV 3/5] END ......max_depth=5, n_estimators=50;, score=0.566 total time=   0.4s\n",
      "[CV 4/5] END ......max_depth=5, n_estimators=50;, score=0.621 total time=   0.3s\n",
      "[CV 5/5] END ......max_depth=5, n_estimators=50;, score=0.607 total time=   0.3s\n",
      "[CV 1/5] END .....max_depth=5, n_estimators=100;, score=0.584 total time=   0.9s\n",
      "[CV 2/5] END .....max_depth=5, n_estimators=100;, score=0.590 total time=   0.8s\n",
      "[CV 3/5] END .....max_depth=5, n_estimators=100;, score=0.572 total time=   0.8s\n",
      "[CV 4/5] END .....max_depth=5, n_estimators=100;, score=0.615 total time=   0.8s\n",
      "[CV 5/5] END .....max_depth=5, n_estimators=100;, score=0.606 total time=   0.8s\n",
      "[CV 1/5] END .....max_depth=5, n_estimators=150;, score=0.581 total time=   1.4s\n",
      "[CV 2/5] END .....max_depth=5, n_estimators=150;, score=0.591 total time=   1.3s\n",
      "[CV 3/5] END .....max_depth=5, n_estimators=150;, score=0.571 total time=   1.3s\n",
      "[CV 4/5] END .....max_depth=5, n_estimators=150;, score=0.610 total time=   1.3s\n",
      "[CV 5/5] END .....max_depth=5, n_estimators=150;, score=0.608 total time=   1.3s\n",
      "[CV 1/5] END .....max_depth=5, n_estimators=200;, score=0.587 total time=   1.8s\n",
      "[CV 2/5] END .....max_depth=5, n_estimators=200;, score=0.589 total time=   1.7s\n",
      "[CV 3/5] END .....max_depth=5, n_estimators=200;, score=0.572 total time=   1.7s\n",
      "[CV 4/5] END .....max_depth=5, n_estimators=200;, score=0.610 total time=   1.8s\n",
      "[CV 5/5] END .....max_depth=5, n_estimators=200;, score=0.606 total time=   1.7s\n",
      "[CV 1/5] END ......max_depth=7, n_estimators=50;, score=0.602 total time=   0.4s\n",
      "[CV 2/5] END ......max_depth=7, n_estimators=50;, score=0.606 total time=   0.5s\n",
      "[CV 3/5] END ......max_depth=7, n_estimators=50;, score=0.590 total time=   0.6s\n",
      "[CV 4/5] END ......max_depth=7, n_estimators=50;, score=0.633 total time=   0.6s\n",
      "[CV 5/5] END ......max_depth=7, n_estimators=50;, score=0.621 total time=   0.5s\n",
      "[CV 1/5] END .....max_depth=7, n_estimators=100;, score=0.599 total time=   1.2s\n",
      "[CV 2/5] END .....max_depth=7, n_estimators=100;, score=0.603 total time=   1.0s\n",
      "[CV 3/5] END .....max_depth=7, n_estimators=100;, score=0.596 total time=   1.0s\n",
      "[CV 4/5] END .....max_depth=7, n_estimators=100;, score=0.632 total time=   1.1s\n",
      "[CV 5/5] END .....max_depth=7, n_estimators=100;, score=0.621 total time=   1.1s\n",
      "[CV 1/5] END .....max_depth=7, n_estimators=150;, score=0.593 total time=   1.7s\n",
      "[CV 2/5] END .....max_depth=7, n_estimators=150;, score=0.607 total time=   1.8s\n",
      "[CV 3/5] END .....max_depth=7, n_estimators=150;, score=0.592 total time=   1.5s\n",
      "[CV 4/5] END .....max_depth=7, n_estimators=150;, score=0.629 total time=   1.9s\n",
      "[CV 5/5] END .....max_depth=7, n_estimators=150;, score=0.627 total time=   2.0s\n",
      "[CV 1/5] END .....max_depth=7, n_estimators=200;, score=0.594 total time=   2.8s\n",
      "[CV 2/5] END .....max_depth=7, n_estimators=200;, score=0.605 total time=   2.7s\n",
      "[CV 3/5] END .....max_depth=7, n_estimators=200;, score=0.590 total time=   2.7s\n",
      "[CV 4/5] END .....max_depth=7, n_estimators=200;, score=0.631 total time=   2.7s\n",
      "[CV 5/5] END .....max_depth=7, n_estimators=200;, score=0.631 total time=   2.7s\n",
      "[CV 1/5] END ......max_depth=9, n_estimators=50;, score=0.589 total time=   0.8s\n",
      "[CV 2/5] END ......max_depth=9, n_estimators=50;, score=0.609 total time=   0.7s\n",
      "[CV 3/5] END ......max_depth=9, n_estimators=50;, score=0.597 total time=   0.7s\n",
      "[CV 4/5] END ......max_depth=9, n_estimators=50;, score=0.636 total time=   0.7s\n",
      "[CV 5/5] END ......max_depth=9, n_estimators=50;, score=0.615 total time=   0.7s\n",
      "[CV 1/5] END .....max_depth=9, n_estimators=100;, score=0.598 total time=   1.6s\n",
      "[CV 2/5] END .....max_depth=9, n_estimators=100;, score=0.611 total time=   1.6s\n",
      "[CV 3/5] END .....max_depth=9, n_estimators=100;, score=0.601 total time=   1.6s\n",
      "[CV 4/5] END .....max_depth=9, n_estimators=100;, score=0.642 total time=   1.6s\n",
      "[CV 5/5] END .....max_depth=9, n_estimators=100;, score=0.615 total time=   1.6s\n",
      "[CV 1/5] END .....max_depth=9, n_estimators=150;, score=0.596 total time=   2.4s\n",
      "[CV 2/5] END .....max_depth=9, n_estimators=150;, score=0.607 total time=   2.4s\n",
      "[CV 3/5] END .....max_depth=9, n_estimators=150;, score=0.596 total time=   2.5s\n",
      "[CV 4/5] END .....max_depth=9, n_estimators=150;, score=0.641 total time=   2.3s\n",
      "[CV 5/5] END .....max_depth=9, n_estimators=150;, score=0.620 total time=   2.5s\n",
      "[CV 1/5] END .....max_depth=9, n_estimators=200;, score=0.602 total time=   3.2s\n",
      "[CV 2/5] END .....max_depth=9, n_estimators=200;, score=0.615 total time=   3.1s\n",
      "[CV 3/5] END .....max_depth=9, n_estimators=200;, score=0.598 total time=   3.4s\n",
      "[CV 4/5] END .....max_depth=9, n_estimators=200;, score=0.648 total time=   3.3s\n",
      "[CV 5/5] END .....max_depth=9, n_estimators=200;, score=0.626 total time=   3.2s\n",
      "[CV 1/5] END .....max_depth=11, n_estimators=50;, score=0.594 total time=   0.9s\n",
      "[CV 2/5] END .....max_depth=11, n_estimators=50;, score=0.578 total time=   0.8s\n",
      "[CV 3/5] END .....max_depth=11, n_estimators=50;, score=0.611 total time=   0.8s\n",
      "[CV 4/5] END .....max_depth=11, n_estimators=50;, score=0.620 total time=   0.8s\n",
      "[CV 5/5] END .....max_depth=11, n_estimators=50;, score=0.624 total time=   0.8s\n",
      "[CV 1/5] END ....max_depth=11, n_estimators=100;, score=0.591 total time=   1.8s\n",
      "[CV 2/5] END ....max_depth=11, n_estimators=100;, score=0.588 total time=   1.7s\n",
      "[CV 3/5] END ....max_depth=11, n_estimators=100;, score=0.614 total time=   1.8s\n",
      "[CV 4/5] END ....max_depth=11, n_estimators=100;, score=0.602 total time=   1.8s\n",
      "[CV 5/5] END ....max_depth=11, n_estimators=100;, score=0.621 total time=   1.8s\n",
      "[CV 1/5] END ....max_depth=11, n_estimators=150;, score=0.587 total time=   2.8s\n",
      "[CV 2/5] END ....max_depth=11, n_estimators=150;, score=0.581 total time=   2.7s\n",
      "[CV 3/5] END ....max_depth=11, n_estimators=150;, score=0.613 total time=   2.8s\n",
      "[CV 4/5] END ....max_depth=11, n_estimators=150;, score=0.608 total time=   2.7s\n",
      "[CV 5/5] END ....max_depth=11, n_estimators=150;, score=0.618 total time=   2.6s\n",
      "[CV 1/5] END ....max_depth=11, n_estimators=200;, score=0.588 total time=   3.5s\n",
      "[CV 2/5] END ....max_depth=11, n_estimators=200;, score=0.581 total time=   3.8s\n",
      "[CV 3/5] END ....max_depth=11, n_estimators=200;, score=0.610 total time=   3.7s\n",
      "[CV 4/5] END ....max_depth=11, n_estimators=200;, score=0.616 total time=   3.7s\n",
      "[CV 5/5] END ....max_depth=11, n_estimators=200;, score=0.616 total time=   3.8s\n",
      "[CV 1/5] END .....max_depth=13, n_estimators=50;, score=0.583 total time=   0.9s\n",
      "[CV 2/5] END .....max_depth=13, n_estimators=50;, score=0.569 total time=   0.9s\n",
      "[CV 3/5] END .....max_depth=13, n_estimators=50;, score=0.611 total time=   0.9s\n",
      "[CV 4/5] END .....max_depth=13, n_estimators=50;, score=0.593 total time=   0.9s\n",
      "[CV 5/5] END .....max_depth=13, n_estimators=50;, score=0.594 total time=   0.9s\n",
      "[CV 1/5] END ....max_depth=13, n_estimators=100;, score=0.577 total time=   2.0s\n",
      "[CV 2/5] END ....max_depth=13, n_estimators=100;, score=0.574 total time=   1.9s\n",
      "[CV 3/5] END ....max_depth=13, n_estimators=100;, score=0.618 total time=   1.9s\n",
      "[CV 4/5] END ....max_depth=13, n_estimators=100;, score=0.595 total time=   2.0s\n",
      "[CV 5/5] END ....max_depth=13, n_estimators=100;, score=0.610 total time=   2.0s\n",
      "[CV 1/5] END ....max_depth=13, n_estimators=150;, score=0.579 total time=   3.0s\n",
      "[CV 2/5] END ....max_depth=13, n_estimators=150;, score=0.583 total time=   2.9s\n",
      "[CV 3/5] END ....max_depth=13, n_estimators=150;, score=0.613 total time=   2.9s\n",
      "[CV 4/5] END ....max_depth=13, n_estimators=150;, score=0.595 total time=   3.0s\n",
      "[CV 5/5] END ....max_depth=13, n_estimators=150;, score=0.611 total time=   2.9s\n",
      "[CV 1/5] END ....max_depth=13, n_estimators=200;, score=0.584 total time=   3.9s\n",
      "[CV 2/5] END ....max_depth=13, n_estimators=200;, score=0.582 total time=   3.9s\n",
      "[CV 3/5] END ....max_depth=13, n_estimators=200;, score=0.619 total time=   4.0s\n",
      "[CV 4/5] END ....max_depth=13, n_estimators=200;, score=0.605 total time=   3.9s\n",
      "[CV 5/5] END ....max_depth=13, n_estimators=200;, score=0.608 total time=   3.9s\n",
      "[CV 1/5] END .....max_depth=15, n_estimators=50;, score=0.576 total time=   0.9s\n",
      "[CV 2/5] END .....max_depth=15, n_estimators=50;, score=0.563 total time=   1.0s\n",
      "[CV 3/5] END .....max_depth=15, n_estimators=50;, score=0.590 total time=   0.9s\n",
      "[CV 4/5] END .....max_depth=15, n_estimators=50;, score=0.580 total time=   0.9s\n",
      "[CV 5/5] END .....max_depth=15, n_estimators=50;, score=0.594 total time=   0.9s\n",
      "[CV 1/5] END ....max_depth=15, n_estimators=100;, score=0.579 total time=   2.0s\n",
      "[CV 2/5] END ....max_depth=15, n_estimators=100;, score=0.573 total time=   2.0s\n",
      "[CV 3/5] END ....max_depth=15, n_estimators=100;, score=0.581 total time=   1.9s\n",
      "[CV 4/5] END ....max_depth=15, n_estimators=100;, score=0.579 total time=   1.9s\n",
      "[CV 5/5] END ....max_depth=15, n_estimators=100;, score=0.594 total time=   1.9s\n",
      "[CV 1/5] END ....max_depth=15, n_estimators=150;, score=0.581 total time=   3.0s\n",
      "[CV 2/5] END ....max_depth=15, n_estimators=150;, score=0.572 total time=   3.0s\n",
      "[CV 3/5] END ....max_depth=15, n_estimators=150;, score=0.584 total time=   3.0s\n",
      "[CV 4/5] END ....max_depth=15, n_estimators=150;, score=0.583 total time=   2.9s\n",
      "[CV 5/5] END ....max_depth=15, n_estimators=150;, score=0.588 total time=   3.1s\n",
      "[CV 1/5] END ....max_depth=15, n_estimators=200;, score=0.583 total time=   3.9s\n",
      "[CV 2/5] END ....max_depth=15, n_estimators=200;, score=0.576 total time=   4.0s\n",
      "[CV 3/5] END ....max_depth=15, n_estimators=200;, score=0.587 total time=   3.9s\n",
      "[CV 4/5] END ....max_depth=15, n_estimators=200;, score=0.582 total time=   4.0s\n",
      "[CV 5/5] END ....max_depth=15, n_estimators=200;, score=0.597 total time=   3.9s\n",
      "[CV 1/5] END .....max_depth=17, n_estimators=50;, score=0.555 total time=   0.9s\n",
      "[CV 2/5] END .....max_depth=17, n_estimators=50;, score=0.566 total time=   0.9s\n",
      "[CV 3/5] END .....max_depth=17, n_estimators=50;, score=0.577 total time=   1.0s\n",
      "[CV 4/5] END .....max_depth=17, n_estimators=50;, score=0.564 total time=   0.9s\n",
      "[CV 5/5] END .....max_depth=17, n_estimators=50;, score=0.563 total time=   1.1s\n",
      "[CV 1/5] END ....max_depth=17, n_estimators=100;, score=0.565 total time=   2.0s\n",
      "[CV 2/5] END ....max_depth=17, n_estimators=100;, score=0.569 total time=   1.9s\n",
      "[CV 3/5] END ....max_depth=17, n_estimators=100;, score=0.577 total time=   2.0s\n",
      "[CV 4/5] END ....max_depth=17, n_estimators=100;, score=0.566 total time=   2.0s\n",
      "[CV 5/5] END ....max_depth=17, n_estimators=100;, score=0.576 total time=   2.0s\n",
      "[CV 1/5] END ....max_depth=17, n_estimators=150;, score=0.553 total time=   3.0s\n",
      "[CV 2/5] END ....max_depth=17, n_estimators=150;, score=0.562 total time=   3.0s\n",
      "[CV 3/5] END ....max_depth=17, n_estimators=150;, score=0.576 total time=   3.2s\n",
      "[CV 4/5] END ....max_depth=17, n_estimators=150;, score=0.574 total time=   3.0s\n",
      "[CV 5/5] END ....max_depth=17, n_estimators=150;, score=0.578 total time=   3.0s\n",
      "[CV 1/5] END ....max_depth=17, n_estimators=200;, score=0.555 total time=   4.2s\n",
      "[CV 2/5] END ....max_depth=17, n_estimators=200;, score=0.554 total time=   4.0s\n",
      "[CV 3/5] END ....max_depth=17, n_estimators=200;, score=0.578 total time=   4.2s\n",
      "[CV 4/5] END ....max_depth=17, n_estimators=200;, score=0.569 total time=   4.1s\n",
      "[CV 5/5] END ....max_depth=17, n_estimators=200;, score=0.571 total time=   4.1s\n",
      "[CV 1/5] END .....max_depth=19, n_estimators=50;, score=0.548 total time=   0.9s\n",
      "[CV 2/5] END .....max_depth=19, n_estimators=50;, score=0.550 total time=   0.9s\n",
      "[CV 3/5] END .....max_depth=19, n_estimators=50;, score=0.569 total time=   1.0s\n",
      "[CV 4/5] END .....max_depth=19, n_estimators=50;, score=0.567 total time=   1.0s\n",
      "[CV 5/5] END .....max_depth=19, n_estimators=50;, score=0.583 total time=   0.9s\n",
      "[CV 1/5] END ....max_depth=19, n_estimators=100;, score=0.550 total time=   2.0s\n",
      "[CV 2/5] END ....max_depth=19, n_estimators=100;, score=0.566 total time=   2.0s\n",
      "[CV 3/5] END ....max_depth=19, n_estimators=100;, score=0.584 total time=   2.1s\n",
      "[CV 4/5] END ....max_depth=19, n_estimators=100;, score=0.576 total time=   2.1s\n",
      "[CV 5/5] END ....max_depth=19, n_estimators=100;, score=0.593 total time=   2.1s\n",
      "[CV 1/5] END ....max_depth=19, n_estimators=150;, score=0.558 total time=   3.1s\n",
      "[CV 2/5] END ....max_depth=19, n_estimators=150;, score=0.558 total time=   3.0s\n",
      "[CV 3/5] END ....max_depth=19, n_estimators=150;, score=0.586 total time=   3.1s\n",
      "[CV 4/5] END ....max_depth=19, n_estimators=150;, score=0.567 total time=   2.7s\n",
      "[CV 5/5] END ....max_depth=19, n_estimators=150;, score=0.590 total time=   2.9s\n",
      "[CV 1/5] END ....max_depth=19, n_estimators=200;, score=0.557 total time=   3.4s\n",
      "[CV 2/5] END ....max_depth=19, n_estimators=200;, score=0.558 total time=   3.5s\n",
      "[CV 3/5] END ....max_depth=19, n_estimators=200;, score=0.574 total time=   3.6s\n",
      "[CV 4/5] END ....max_depth=19, n_estimators=200;, score=0.571 total time=   3.3s\n",
      "[CV 5/5] END ....max_depth=19, n_estimators=200;, score=0.580 total time=   3.6s\n"
     ]
    },
    {
     "data": {
      "text/html": [
       "<style>#sk-container-id-2 {\n",
       "  /* Definition of color scheme common for light and dark mode */\n",
       "  --sklearn-color-text: black;\n",
       "  --sklearn-color-line: gray;\n",
       "  /* Definition of color scheme for unfitted estimators */\n",
       "  --sklearn-color-unfitted-level-0: #fff5e6;\n",
       "  --sklearn-color-unfitted-level-1: #f6e4d2;\n",
       "  --sklearn-color-unfitted-level-2: #ffe0b3;\n",
       "  --sklearn-color-unfitted-level-3: chocolate;\n",
       "  /* Definition of color scheme for fitted estimators */\n",
       "  --sklearn-color-fitted-level-0: #f0f8ff;\n",
       "  --sklearn-color-fitted-level-1: #d4ebff;\n",
       "  --sklearn-color-fitted-level-2: #b3dbfd;\n",
       "  --sklearn-color-fitted-level-3: cornflowerblue;\n",
       "\n",
       "  /* Specific color for light theme */\n",
       "  --sklearn-color-text-on-default-background: var(--sg-text-color, var(--theme-code-foreground, var(--jp-content-font-color1, black)));\n",
       "  --sklearn-color-background: var(--sg-background-color, var(--theme-background, var(--jp-layout-color0, white)));\n",
       "  --sklearn-color-border-box: var(--sg-text-color, var(--theme-code-foreground, var(--jp-content-font-color1, black)));\n",
       "  --sklearn-color-icon: #696969;\n",
       "\n",
       "  @media (prefers-color-scheme: dark) {\n",
       "    /* Redefinition of color scheme for dark theme */\n",
       "    --sklearn-color-text-on-default-background: var(--sg-text-color, var(--theme-code-foreground, var(--jp-content-font-color1, white)));\n",
       "    --sklearn-color-background: var(--sg-background-color, var(--theme-background, var(--jp-layout-color0, #111)));\n",
       "    --sklearn-color-border-box: var(--sg-text-color, var(--theme-code-foreground, var(--jp-content-font-color1, white)));\n",
       "    --sklearn-color-icon: #878787;\n",
       "  }\n",
       "}\n",
       "\n",
       "#sk-container-id-2 {\n",
       "  color: var(--sklearn-color-text);\n",
       "}\n",
       "\n",
       "#sk-container-id-2 pre {\n",
       "  padding: 0;\n",
       "}\n",
       "\n",
       "#sk-container-id-2 input.sk-hidden--visually {\n",
       "  border: 0;\n",
       "  clip: rect(1px 1px 1px 1px);\n",
       "  clip: rect(1px, 1px, 1px, 1px);\n",
       "  height: 1px;\n",
       "  margin: -1px;\n",
       "  overflow: hidden;\n",
       "  padding: 0;\n",
       "  position: absolute;\n",
       "  width: 1px;\n",
       "}\n",
       "\n",
       "#sk-container-id-2 div.sk-dashed-wrapped {\n",
       "  border: 1px dashed var(--sklearn-color-line);\n",
       "  margin: 0 0.4em 0.5em 0.4em;\n",
       "  box-sizing: border-box;\n",
       "  padding-bottom: 0.4em;\n",
       "  background-color: var(--sklearn-color-background);\n",
       "}\n",
       "\n",
       "#sk-container-id-2 div.sk-container {\n",
       "  /* jupyter's `normalize.less` sets `[hidden] { display: none; }`\n",
       "     but bootstrap.min.css set `[hidden] { display: none !important; }`\n",
       "     so we also need the `!important` here to be able to override the\n",
       "     default hidden behavior on the sphinx rendered scikit-learn.org.\n",
       "     See: https://github.com/scikit-learn/scikit-learn/issues/21755 */\n",
       "  display: inline-block !important;\n",
       "  position: relative;\n",
       "}\n",
       "\n",
       "#sk-container-id-2 div.sk-text-repr-fallback {\n",
       "  display: none;\n",
       "}\n",
       "\n",
       "div.sk-parallel-item,\n",
       "div.sk-serial,\n",
       "div.sk-item {\n",
       "  /* draw centered vertical line to link estimators */\n",
       "  background-image: linear-gradient(var(--sklearn-color-text-on-default-background), var(--sklearn-color-text-on-default-background));\n",
       "  background-size: 2px 100%;\n",
       "  background-repeat: no-repeat;\n",
       "  background-position: center center;\n",
       "}\n",
       "\n",
       "/* Parallel-specific style estimator block */\n",
       "\n",
       "#sk-container-id-2 div.sk-parallel-item::after {\n",
       "  content: \"\";\n",
       "  width: 100%;\n",
       "  border-bottom: 2px solid var(--sklearn-color-text-on-default-background);\n",
       "  flex-grow: 1;\n",
       "}\n",
       "\n",
       "#sk-container-id-2 div.sk-parallel {\n",
       "  display: flex;\n",
       "  align-items: stretch;\n",
       "  justify-content: center;\n",
       "  background-color: var(--sklearn-color-background);\n",
       "  position: relative;\n",
       "}\n",
       "\n",
       "#sk-container-id-2 div.sk-parallel-item {\n",
       "  display: flex;\n",
       "  flex-direction: column;\n",
       "}\n",
       "\n",
       "#sk-container-id-2 div.sk-parallel-item:first-child::after {\n",
       "  align-self: flex-end;\n",
       "  width: 50%;\n",
       "}\n",
       "\n",
       "#sk-container-id-2 div.sk-parallel-item:last-child::after {\n",
       "  align-self: flex-start;\n",
       "  width: 50%;\n",
       "}\n",
       "\n",
       "#sk-container-id-2 div.sk-parallel-item:only-child::after {\n",
       "  width: 0;\n",
       "}\n",
       "\n",
       "/* Serial-specific style estimator block */\n",
       "\n",
       "#sk-container-id-2 div.sk-serial {\n",
       "  display: flex;\n",
       "  flex-direction: column;\n",
       "  align-items: center;\n",
       "  background-color: var(--sklearn-color-background);\n",
       "  padding-right: 1em;\n",
       "  padding-left: 1em;\n",
       "}\n",
       "\n",
       "\n",
       "/* Toggleable style: style used for estimator/Pipeline/ColumnTransformer box that is\n",
       "clickable and can be expanded/collapsed.\n",
       "- Pipeline and ColumnTransformer use this feature and define the default style\n",
       "- Estimators will overwrite some part of the style using the `sk-estimator` class\n",
       "*/\n",
       "\n",
       "/* Pipeline and ColumnTransformer style (default) */\n",
       "\n",
       "#sk-container-id-2 div.sk-toggleable {\n",
       "  /* Default theme specific background. It is overwritten whether we have a\n",
       "  specific estimator or a Pipeline/ColumnTransformer */\n",
       "  background-color: var(--sklearn-color-background);\n",
       "}\n",
       "\n",
       "/* Toggleable label */\n",
       "#sk-container-id-2 label.sk-toggleable__label {\n",
       "  cursor: pointer;\n",
       "  display: block;\n",
       "  width: 100%;\n",
       "  margin-bottom: 0;\n",
       "  padding: 0.5em;\n",
       "  box-sizing: border-box;\n",
       "  text-align: center;\n",
       "}\n",
       "\n",
       "#sk-container-id-2 label.sk-toggleable__label-arrow:before {\n",
       "  /* Arrow on the left of the label */\n",
       "  content: \"▸\";\n",
       "  float: left;\n",
       "  margin-right: 0.25em;\n",
       "  color: var(--sklearn-color-icon);\n",
       "}\n",
       "\n",
       "#sk-container-id-2 label.sk-toggleable__label-arrow:hover:before {\n",
       "  color: var(--sklearn-color-text);\n",
       "}\n",
       "\n",
       "/* Toggleable content - dropdown */\n",
       "\n",
       "#sk-container-id-2 div.sk-toggleable__content {\n",
       "  max-height: 0;\n",
       "  max-width: 0;\n",
       "  overflow: hidden;\n",
       "  text-align: left;\n",
       "  /* unfitted */\n",
       "  background-color: var(--sklearn-color-unfitted-level-0);\n",
       "}\n",
       "\n",
       "#sk-container-id-2 div.sk-toggleable__content.fitted {\n",
       "  /* fitted */\n",
       "  background-color: var(--sklearn-color-fitted-level-0);\n",
       "}\n",
       "\n",
       "#sk-container-id-2 div.sk-toggleable__content pre {\n",
       "  margin: 0.2em;\n",
       "  border-radius: 0.25em;\n",
       "  color: var(--sklearn-color-text);\n",
       "  /* unfitted */\n",
       "  background-color: var(--sklearn-color-unfitted-level-0);\n",
       "}\n",
       "\n",
       "#sk-container-id-2 div.sk-toggleable__content.fitted pre {\n",
       "  /* unfitted */\n",
       "  background-color: var(--sklearn-color-fitted-level-0);\n",
       "}\n",
       "\n",
       "#sk-container-id-2 input.sk-toggleable__control:checked~div.sk-toggleable__content {\n",
       "  /* Expand drop-down */\n",
       "  max-height: 200px;\n",
       "  max-width: 100%;\n",
       "  overflow: auto;\n",
       "}\n",
       "\n",
       "#sk-container-id-2 input.sk-toggleable__control:checked~label.sk-toggleable__label-arrow:before {\n",
       "  content: \"▾\";\n",
       "}\n",
       "\n",
       "/* Pipeline/ColumnTransformer-specific style */\n",
       "\n",
       "#sk-container-id-2 div.sk-label input.sk-toggleable__control:checked~label.sk-toggleable__label {\n",
       "  color: var(--sklearn-color-text);\n",
       "  background-color: var(--sklearn-color-unfitted-level-2);\n",
       "}\n",
       "\n",
       "#sk-container-id-2 div.sk-label.fitted input.sk-toggleable__control:checked~label.sk-toggleable__label {\n",
       "  background-color: var(--sklearn-color-fitted-level-2);\n",
       "}\n",
       "\n",
       "/* Estimator-specific style */\n",
       "\n",
       "/* Colorize estimator box */\n",
       "#sk-container-id-2 div.sk-estimator input.sk-toggleable__control:checked~label.sk-toggleable__label {\n",
       "  /* unfitted */\n",
       "  background-color: var(--sklearn-color-unfitted-level-2);\n",
       "}\n",
       "\n",
       "#sk-container-id-2 div.sk-estimator.fitted input.sk-toggleable__control:checked~label.sk-toggleable__label {\n",
       "  /* fitted */\n",
       "  background-color: var(--sklearn-color-fitted-level-2);\n",
       "}\n",
       "\n",
       "#sk-container-id-2 div.sk-label label.sk-toggleable__label,\n",
       "#sk-container-id-2 div.sk-label label {\n",
       "  /* The background is the default theme color */\n",
       "  color: var(--sklearn-color-text-on-default-background);\n",
       "}\n",
       "\n",
       "/* On hover, darken the color of the background */\n",
       "#sk-container-id-2 div.sk-label:hover label.sk-toggleable__label {\n",
       "  color: var(--sklearn-color-text);\n",
       "  background-color: var(--sklearn-color-unfitted-level-2);\n",
       "}\n",
       "\n",
       "/* Label box, darken color on hover, fitted */\n",
       "#sk-container-id-2 div.sk-label.fitted:hover label.sk-toggleable__label.fitted {\n",
       "  color: var(--sklearn-color-text);\n",
       "  background-color: var(--sklearn-color-fitted-level-2);\n",
       "}\n",
       "\n",
       "/* Estimator label */\n",
       "\n",
       "#sk-container-id-2 div.sk-label label {\n",
       "  font-family: monospace;\n",
       "  font-weight: bold;\n",
       "  display: inline-block;\n",
       "  line-height: 1.2em;\n",
       "}\n",
       "\n",
       "#sk-container-id-2 div.sk-label-container {\n",
       "  text-align: center;\n",
       "}\n",
       "\n",
       "/* Estimator-specific */\n",
       "#sk-container-id-2 div.sk-estimator {\n",
       "  font-family: monospace;\n",
       "  border: 1px dotted var(--sklearn-color-border-box);\n",
       "  border-radius: 0.25em;\n",
       "  box-sizing: border-box;\n",
       "  margin-bottom: 0.5em;\n",
       "  /* unfitted */\n",
       "  background-color: var(--sklearn-color-unfitted-level-0);\n",
       "}\n",
       "\n",
       "#sk-container-id-2 div.sk-estimator.fitted {\n",
       "  /* fitted */\n",
       "  background-color: var(--sklearn-color-fitted-level-0);\n",
       "}\n",
       "\n",
       "/* on hover */\n",
       "#sk-container-id-2 div.sk-estimator:hover {\n",
       "  /* unfitted */\n",
       "  background-color: var(--sklearn-color-unfitted-level-2);\n",
       "}\n",
       "\n",
       "#sk-container-id-2 div.sk-estimator.fitted:hover {\n",
       "  /* fitted */\n",
       "  background-color: var(--sklearn-color-fitted-level-2);\n",
       "}\n",
       "\n",
       "/* Specification for estimator info (e.g. \"i\" and \"?\") */\n",
       "\n",
       "/* Common style for \"i\" and \"?\" */\n",
       "\n",
       ".sk-estimator-doc-link,\n",
       "a:link.sk-estimator-doc-link,\n",
       "a:visited.sk-estimator-doc-link {\n",
       "  float: right;\n",
       "  font-size: smaller;\n",
       "  line-height: 1em;\n",
       "  font-family: monospace;\n",
       "  background-color: var(--sklearn-color-background);\n",
       "  border-radius: 1em;\n",
       "  height: 1em;\n",
       "  width: 1em;\n",
       "  text-decoration: none !important;\n",
       "  margin-left: 1ex;\n",
       "  /* unfitted */\n",
       "  border: var(--sklearn-color-unfitted-level-1) 1pt solid;\n",
       "  color: var(--sklearn-color-unfitted-level-1);\n",
       "}\n",
       "\n",
       ".sk-estimator-doc-link.fitted,\n",
       "a:link.sk-estimator-doc-link.fitted,\n",
       "a:visited.sk-estimator-doc-link.fitted {\n",
       "  /* fitted */\n",
       "  border: var(--sklearn-color-fitted-level-1) 1pt solid;\n",
       "  color: var(--sklearn-color-fitted-level-1);\n",
       "}\n",
       "\n",
       "/* On hover */\n",
       "div.sk-estimator:hover .sk-estimator-doc-link:hover,\n",
       ".sk-estimator-doc-link:hover,\n",
       "div.sk-label-container:hover .sk-estimator-doc-link:hover,\n",
       ".sk-estimator-doc-link:hover {\n",
       "  /* unfitted */\n",
       "  background-color: var(--sklearn-color-unfitted-level-3);\n",
       "  color: var(--sklearn-color-background);\n",
       "  text-decoration: none;\n",
       "}\n",
       "\n",
       "div.sk-estimator.fitted:hover .sk-estimator-doc-link.fitted:hover,\n",
       ".sk-estimator-doc-link.fitted:hover,\n",
       "div.sk-label-container:hover .sk-estimator-doc-link.fitted:hover,\n",
       ".sk-estimator-doc-link.fitted:hover {\n",
       "  /* fitted */\n",
       "  background-color: var(--sklearn-color-fitted-level-3);\n",
       "  color: var(--sklearn-color-background);\n",
       "  text-decoration: none;\n",
       "}\n",
       "\n",
       "/* Span, style for the box shown on hovering the info icon */\n",
       ".sk-estimator-doc-link span {\n",
       "  display: none;\n",
       "  z-index: 9999;\n",
       "  position: relative;\n",
       "  font-weight: normal;\n",
       "  right: .2ex;\n",
       "  padding: .5ex;\n",
       "  margin: .5ex;\n",
       "  width: min-content;\n",
       "  min-width: 20ex;\n",
       "  max-width: 50ex;\n",
       "  color: var(--sklearn-color-text);\n",
       "  box-shadow: 2pt 2pt 4pt #999;\n",
       "  /* unfitted */\n",
       "  background: var(--sklearn-color-unfitted-level-0);\n",
       "  border: .5pt solid var(--sklearn-color-unfitted-level-3);\n",
       "}\n",
       "\n",
       ".sk-estimator-doc-link.fitted span {\n",
       "  /* fitted */\n",
       "  background: var(--sklearn-color-fitted-level-0);\n",
       "  border: var(--sklearn-color-fitted-level-3);\n",
       "}\n",
       "\n",
       ".sk-estimator-doc-link:hover span {\n",
       "  display: block;\n",
       "}\n",
       "\n",
       "/* \"?\"-specific style due to the `<a>` HTML tag */\n",
       "\n",
       "#sk-container-id-2 a.estimator_doc_link {\n",
       "  float: right;\n",
       "  font-size: 1rem;\n",
       "  line-height: 1em;\n",
       "  font-family: monospace;\n",
       "  background-color: var(--sklearn-color-background);\n",
       "  border-radius: 1rem;\n",
       "  height: 1rem;\n",
       "  width: 1rem;\n",
       "  text-decoration: none;\n",
       "  /* unfitted */\n",
       "  color: var(--sklearn-color-unfitted-level-1);\n",
       "  border: var(--sklearn-color-unfitted-level-1) 1pt solid;\n",
       "}\n",
       "\n",
       "#sk-container-id-2 a.estimator_doc_link.fitted {\n",
       "  /* fitted */\n",
       "  border: var(--sklearn-color-fitted-level-1) 1pt solid;\n",
       "  color: var(--sklearn-color-fitted-level-1);\n",
       "}\n",
       "\n",
       "/* On hover */\n",
       "#sk-container-id-2 a.estimator_doc_link:hover {\n",
       "  /* unfitted */\n",
       "  background-color: var(--sklearn-color-unfitted-level-3);\n",
       "  color: var(--sklearn-color-background);\n",
       "  text-decoration: none;\n",
       "}\n",
       "\n",
       "#sk-container-id-2 a.estimator_doc_link.fitted:hover {\n",
       "  /* fitted */\n",
       "  background-color: var(--sklearn-color-fitted-level-3);\n",
       "}\n",
       "</style><div id=\"sk-container-id-2\" class=\"sk-top-container\"><div class=\"sk-text-repr-fallback\"><pre>GridSearchCV(cv=5,\n",
       "             estimator=RandomForestClassifier(class_weight={0: np.float64(0.20387984981226537),\n",
       "                                                            1: np.float64(0.7961201501877346)},\n",
       "                                              max_depth=5, max_features=0.8,\n",
       "                                              n_estimators=150,\n",
       "                                              random_state=45),\n",
       "             param_grid={&#x27;max_depth&#x27;: array([ 5,  7,  9, 11, 13, 15, 17, 19]),\n",
       "                         &#x27;n_estimators&#x27;: array([ 50, 100, 150, 200])},\n",
       "             scoring=&#x27;f1&#x27;, verbose=4)</pre><b>In a Jupyter environment, please rerun this cell to show the HTML representation or trust the notebook. <br />On GitHub, the HTML representation is unable to render, please try loading this page with nbviewer.org.</b></div><div class=\"sk-container\" hidden><div class=\"sk-item sk-dashed-wrapped\"><div class=\"sk-label-container\"><div class=\"sk-label fitted sk-toggleable\"><input class=\"sk-toggleable__control sk-hidden--visually\" id=\"sk-estimator-id-4\" type=\"checkbox\" ><label for=\"sk-estimator-id-4\" class=\"sk-toggleable__label fitted sk-toggleable__label-arrow fitted\">&nbsp;&nbsp;GridSearchCV<a class=\"sk-estimator-doc-link fitted\" rel=\"noreferrer\" target=\"_blank\" href=\"https://scikit-learn.org/1.5/modules/generated/sklearn.model_selection.GridSearchCV.html\">?<span>Documentation for GridSearchCV</span></a><span class=\"sk-estimator-doc-link fitted\">i<span>Fitted</span></span></label><div class=\"sk-toggleable__content fitted\"><pre>GridSearchCV(cv=5,\n",
       "             estimator=RandomForestClassifier(class_weight={0: np.float64(0.20387984981226537),\n",
       "                                                            1: np.float64(0.7961201501877346)},\n",
       "                                              max_depth=5, max_features=0.8,\n",
       "                                              n_estimators=150,\n",
       "                                              random_state=45),\n",
       "             param_grid={&#x27;max_depth&#x27;: array([ 5,  7,  9, 11, 13, 15, 17, 19]),\n",
       "                         &#x27;n_estimators&#x27;: array([ 50, 100, 150, 200])},\n",
       "             scoring=&#x27;f1&#x27;, verbose=4)</pre></div> </div></div><div class=\"sk-parallel\"><div class=\"sk-parallel-item\"><div class=\"sk-item\"><div class=\"sk-label-container\"><div class=\"sk-label fitted sk-toggleable\"><input class=\"sk-toggleable__control sk-hidden--visually\" id=\"sk-estimator-id-5\" type=\"checkbox\" ><label for=\"sk-estimator-id-5\" class=\"sk-toggleable__label fitted sk-toggleable__label-arrow fitted\">best_estimator_: RandomForestClassifier</label><div class=\"sk-toggleable__content fitted\"><pre>RandomForestClassifier(class_weight={0: np.float64(0.20387984981226537),\n",
       "                                     1: np.float64(0.7961201501877346)},\n",
       "                       max_depth=np.int64(9), max_features=0.8,\n",
       "                       n_estimators=np.int64(200), random_state=45)</pre></div> </div></div><div class=\"sk-serial\"><div class=\"sk-item\"><div class=\"sk-estimator fitted sk-toggleable\"><input class=\"sk-toggleable__control sk-hidden--visually\" id=\"sk-estimator-id-6\" type=\"checkbox\" ><label for=\"sk-estimator-id-6\" class=\"sk-toggleable__label fitted sk-toggleable__label-arrow fitted\">&nbsp;RandomForestClassifier<a class=\"sk-estimator-doc-link fitted\" rel=\"noreferrer\" target=\"_blank\" href=\"https://scikit-learn.org/1.5/modules/generated/sklearn.ensemble.RandomForestClassifier.html\">?<span>Documentation for RandomForestClassifier</span></a></label><div class=\"sk-toggleable__content fitted\"><pre>RandomForestClassifier(class_weight={0: np.float64(0.20387984981226537),\n",
       "                                     1: np.float64(0.7961201501877346)},\n",
       "                       max_depth=np.int64(9), max_features=0.8,\n",
       "                       n_estimators=np.int64(200), random_state=45)</pre></div> </div></div></div></div></div></div></div></div></div>"
      ],
      "text/plain": [
       "GridSearchCV(cv=5,\n",
       "             estimator=RandomForestClassifier(class_weight={0: np.float64(0.20387984981226537),\n",
       "                                                            1: np.float64(0.7961201501877346)},\n",
       "                                              max_depth=5, max_features=0.8,\n",
       "                                              n_estimators=150,\n",
       "                                              random_state=45),\n",
       "             param_grid={'max_depth': array([ 5,  7,  9, 11, 13, 15, 17, 19]),\n",
       "                         'n_estimators': array([ 50, 100, 150, 200])},\n",
       "             scoring='f1', verbose=4)"
      ]
     },
     "execution_count": 163,
     "metadata": {},
     "output_type": "execute_result"
    }
   ],
   "source": [
    "# Using GridSearchCV with class_weight\n",
    "forest_clf = RandomForestClassifier(n_estimators=150, max_depth=5, \n",
    "                                    max_features=0.8, random_state=45, class_weight=dict_weights)\n",
    "\n",
    "# Params to search in\n",
    "params_best_grid = {\n",
    "    'n_estimators': np.arange(50, 201, 50),\n",
    "    'max_depth': np.arange(5, 20, 2)\n",
    "}\n",
    "\n",
    "# Apply gridsearchCV\n",
    "grid_forest = GridSearchCV(estimator=forest_clf, param_grid=params_best_grid, cv=5, scoring='f1', verbose=4)\n",
    "grid_forest.fit(X_train_final, y_train)"
   ]
  },
  {
   "cell_type": "code",
   "execution_count": 164,
   "metadata": {},
   "outputs": [
    {
     "data": {
      "text/plain": [
       "np.float64(0.617862750246665)"
      ]
     },
     "execution_count": 164,
     "metadata": {},
     "output_type": "execute_result"
    }
   ],
   "source": [
    "# The best score according to your scoring\n",
    "grid_forest.best_score_"
   ]
  },
  {
   "cell_type": "code",
   "execution_count": 165,
   "metadata": {},
   "outputs": [
    {
     "data": {
      "text/plain": [
       "{'max_depth': np.int64(9), 'n_estimators': np.int64(200)}"
      ]
     },
     "execution_count": 165,
     "metadata": {},
     "output_type": "execute_result"
    }
   ],
   "source": [
    "grid_forest.best_params_"
   ]
  },
  {
   "cell_type": "code",
   "execution_count": 166,
   "metadata": {},
   "outputs": [
    {
     "name": "stdout",
     "output_type": "stream",
     "text": [
      "The f1_score using tuned RF model for Training Dataset with class_weigths is 74.958\n",
      "The f1_score using tuned RF model for Testing Dataset with class_weigths is 62.329\n"
     ]
    }
   ],
   "source": [
    "# The forest after tuning\n",
    "forest_tuned = grid_forest.best_estimator_\n",
    "forest_tuned.fit(X_train_final, y_train)\n",
    "\n",
    "# Predict and evaluate\n",
    "y_pred_train_forest_tuned = forest_tuned.predict(X_train_final)\n",
    "y_pred_test_foerst_tuned = forest_tuned.predict(X_test_final)\n",
    "\n",
    "# Using f1_score\n",
    "score_train_forest_tuned = f1_score(y_train, y_pred_train_forest_tuned)\n",
    "score_test_forest_tuned = f1_score(y_test, y_pred_test_foerst_tuned)\n",
    "\n",
    "print(f'The f1_score using tuned RF model for Training Dataset with class_weigths is {score_train_forest_tuned*100:.3f}')\n",
    "print(f'The f1_score using tuned RF model for Testing Dataset with class_weigths is {score_test_forest_tuned*100:.3f}')"
   ]
  },
  {
   "cell_type": "code",
   "execution_count": 170,
   "metadata": {},
   "outputs": [
    {
     "data": {
      "text/plain": [
       "['c:\\\\Users\\\\YUSSEF\\\\OneDrive\\\\Desktop\\\\Projects\\\\Customer_Churn_Model\\\\Notebooks\\\\..\\\\artifacts\\\\forest-tuned-class_weights.pkl']"
      ]
     },
     "execution_count": 170,
     "metadata": {},
     "output_type": "execute_result"
    }
   ],
   "source": [
    "# Dump this model locally\n",
    "joblib.dump(forest_tuned, os.path.join(ARTIFACTS_FOLDER_PATH, 'forest-tuned-class_weights.pkl'), compress=9)"
   ]
  },
  {
   "cell_type": "code",
   "execution_count": 168,
   "metadata": {},
   "outputs": [
    {
     "data": {
      "text/html": [
       "<div>\n",
       "<style scoped>\n",
       "    .dataframe tbody tr th:only-of-type {\n",
       "        vertical-align: middle;\n",
       "    }\n",
       "\n",
       "    .dataframe tbody tr th {\n",
       "        vertical-align: top;\n",
       "    }\n",
       "\n",
       "    .dataframe thead th {\n",
       "        text-align: right;\n",
       "    }\n",
       "</style>\n",
       "<table border=\"1\" class=\"dataframe\">\n",
       "  <thead>\n",
       "    <tr style=\"text-align: right;\">\n",
       "      <th></th>\n",
       "      <th>col</th>\n",
       "      <th>importance</th>\n",
       "    </tr>\n",
       "  </thead>\n",
       "  <tbody>\n",
       "    <tr>\n",
       "      <th>0</th>\n",
       "      <td>Age</td>\n",
       "      <td>0.342521</td>\n",
       "    </tr>\n",
       "    <tr>\n",
       "      <th>9</th>\n",
       "      <td>NumOfProducts</td>\n",
       "      <td>0.211975</td>\n",
       "    </tr>\n",
       "    <tr>\n",
       "      <th>2</th>\n",
       "      <td>Balance</td>\n",
       "      <td>0.125637</td>\n",
       "    </tr>\n",
       "    <tr>\n",
       "      <th>1</th>\n",
       "      <td>withdrawing</td>\n",
       "      <td>0.061269</td>\n",
       "    </tr>\n",
       "    <tr>\n",
       "      <th>4</th>\n",
       "      <td>CreditScore</td>\n",
       "      <td>0.056800</td>\n",
       "    </tr>\n",
       "    <tr>\n",
       "      <th>3</th>\n",
       "      <td>EstimatedSalary</td>\n",
       "      <td>0.052516</td>\n",
       "    </tr>\n",
       "    <tr>\n",
       "      <th>11</th>\n",
       "      <td>IsActiveMember</td>\n",
       "      <td>0.051291</td>\n",
       "    </tr>\n",
       "    <tr>\n",
       "      <th>5</th>\n",
       "      <td>Geography_Germany</td>\n",
       "      <td>0.037634</td>\n",
       "    </tr>\n",
       "    <tr>\n",
       "      <th>8</th>\n",
       "      <td>Tenure</td>\n",
       "      <td>0.030006</td>\n",
       "    </tr>\n",
       "    <tr>\n",
       "      <th>7</th>\n",
       "      <td>Gender_Male</td>\n",
       "      <td>0.018277</td>\n",
       "    </tr>\n",
       "    <tr>\n",
       "      <th>6</th>\n",
       "      <td>Geography_Spain</td>\n",
       "      <td>0.006465</td>\n",
       "    </tr>\n",
       "    <tr>\n",
       "      <th>10</th>\n",
       "      <td>HasCrCard</td>\n",
       "      <td>0.005609</td>\n",
       "    </tr>\n",
       "  </tbody>\n",
       "</table>\n",
       "</div>"
      ],
      "text/plain": [
       "                  col  importance\n",
       "0                 Age    0.342521\n",
       "9       NumOfProducts    0.211975\n",
       "2             Balance    0.125637\n",
       "1         withdrawing    0.061269\n",
       "4         CreditScore    0.056800\n",
       "3     EstimatedSalary    0.052516\n",
       "11     IsActiveMember    0.051291\n",
       "5   Geography_Germany    0.037634\n",
       "8              Tenure    0.030006\n",
       "7         Gender_Male    0.018277\n",
       "6     Geography_Spain    0.006465\n",
       "10          HasCrCard    0.005609"
      ]
     },
     "execution_count": 168,
     "metadata": {},
     "output_type": "execute_result"
    }
   ],
   "source": [
    "df_importances = pd.DataFrame({'col': output_cols, 'importance': forest_tuned.feature_importances_})\n",
    "df_importances.sort_values(by='importance', ascending=False)"
   ]
  },
  {
   "cell_type": "markdown",
   "metadata": {},
   "source": [
    "---"
   ]
  },
  {
   "cell_type": "markdown",
   "metadata": {},
   "source": [
    "* `XGBoost`"
   ]
  },
  {
   "cell_type": "code",
   "execution_count": 172,
   "metadata": {},
   "outputs": [
    {
     "data": {
      "text/plain": [
       "np.float64(3.904849600982198)"
      ]
     },
     "execution_count": 172,
     "metadata": {},
     "output_type": "execute_result"
    }
   ],
   "source": [
    "# Foe dealing with imbalanced data using XGBoost\n",
    "scale = np.bincount(y_train)[0] / np.bincount(y_train)[1]\n",
    "scale"
   ]
  },
  {
   "cell_type": "code",
   "execution_count": 173,
   "metadata": {},
   "outputs": [
    {
     "name": "stdout",
     "output_type": "stream",
     "text": [
      "The f1_score using XGBoost model for Training Dataset with class_weigths is 71.825\n",
      "The f1_score using XGBoost model for Testing Dataset with class_weigths is 62.055\n"
     ]
    }
   ],
   "source": [
    "# Using xgboost\n",
    "xgb_clf = XGBClassifier(objective='binary:logistic', \n",
    "                        n_estimators=150, max_depth=3, scale_pos_weight=scale)\n",
    "xgb_clf.fit(X_train_final, y_train)\n",
    "\n",
    "# Predict and evaluate\n",
    "y_pred_train_xgb = xgb_clf.predict(X_train_final)\n",
    "y_pred_test_xgb = xgb_clf.predict(X_test_final)\n",
    "\n",
    "# Using f1_score\n",
    "score_train_xgb= f1_score(y_train, y_pred_train_xgb)\n",
    "score_test_xgb = f1_score(y_test, y_pred_test_xgb)\n",
    "\n",
    "print(f'The f1_score using XGBoost model for Training Dataset with class_weigths is {score_train_xgb*100:.3f}')\n",
    "print(f'The f1_score using XGBoost model for Testing Dataset with class_weigths is {score_test_xgb*100:.3f}')"
   ]
  },
  {
   "cell_type": "code",
   "execution_count": 174,
   "metadata": {},
   "outputs": [
    {
     "data": {
      "text/plain": [
       "['c:\\\\Users\\\\YUSSEF\\\\OneDrive\\\\Desktop\\\\Projects\\\\Customer_Churn_Model\\\\Notebooks\\\\..\\\\artifacts\\\\xgboost.pkl']"
      ]
     },
     "execution_count": 174,
     "metadata": {},
     "output_type": "execute_result"
    }
   ],
   "source": [
    "# Dump this model locally\n",
    "joblib.dump(xgb_clf, os.path.join(ARTIFACTS_FOLDER_PATH, 'xgboost.pkl'), compress=9)"
   ]
  },
  {
   "cell_type": "code",
   "execution_count": 2,
   "metadata": {},
   "outputs": [
    {
     "data": {
      "text/plain": [
       "'c:\\\\Users\\\\YUSSEF\\\\OneDrive\\\\Desktop\\\\Projects\\\\Customer_Churn_Model\\\\Notebooks'"
      ]
     },
     "execution_count": 2,
     "metadata": {},
     "output_type": "execute_result"
    }
   ],
   "source": [
    "os.getcwd()"
   ]
  },
  {
   "cell_type": "code",
   "execution_count": 43,
   "metadata": {},
   "outputs": [],
   "source": [
    "# Load the models\n",
    "model_xgb = joblib.load(os.path.join('..', ARTIFACTS_FOLDER_PATH, 'xgboost.pkl'))\n",
    "model_rf = joblib.load(os.path.join('..', ARTIFACTS_FOLDER_PATH, 'forest-tuned-class_weights.pkl'))\n"
   ]
  },
  {
   "cell_type": "code",
   "execution_count": 51,
   "metadata": {},
   "outputs": [
    {
     "data": {
      "image/png": "[encoded data removed]",
      "text/plain": [
       "<Figure size 1200x500 with 4 Axes>"
      ]
     },
     "metadata": {},
     "output_type": "display_data"
    },
    {
     "data": {
      "image/png": "[encoded data removed]",
      "text/plain": [
       "<Figure size 800x600 with 1 Axes>"
      ]
     },
     "metadata": {},
     "output_type": "display_data"
    },
    {
     "data": {
      "image/png": "[encoded data removed]",
      "text/plain": [
       "<Figure size 1000x600 with 1 Axes>"
      ]
     },
     "metadata": {},
     "output_type": "display_data"
    }
   ],
   "source": [
    "# Assume X_test, y_test, model_xgb, and model_rf are already defined\n",
    "\n",
    "# Predict probabilities\n",
    "y_pred_xgb = model_xgb.predict(X_train_final)\n",
    "y_pred_rf = model_rf.predict(X_train_final)\n",
    "\n",
    "# Confusion Matrix\n",
    "conf_matrix_xgb = confusion_matrix(y_train, y_pred_xgb)\n",
    "conf_matrix_rf = confusion_matrix(y_train, y_pred_rf)\n",
    "\n",
    "fig, axes = plt.subplots(1, 2, figsize=(12, 5))\n",
    "sns.heatmap(conf_matrix_xgb, annot=True, fmt='d', cmap='Blues', ax=axes[0])\n",
    "axes[0].set_title('XGBoost Confusion Matrix')\n",
    "sns.heatmap(conf_matrix_rf, annot=True, fmt='d', cmap='Blues', ax=axes[1])\n",
    "axes[1].set_title('Random Forest Confusion Matrix')\n",
    "plt.show()\n",
    "\n",
    "# ROC Curve\n",
    "fpr_xgb, tpr_xgb, _ = roc_curve(y_train, model_xgb.predict_proba(X_train_final)[:, 1])\n",
    "fpr_rf, tpr_rf, _ = roc_curve(y_train, model_rf.predict_proba(X_train_final)[:, 1])\n",
    "\n",
    "plt.figure(figsize=(8, 6))\n",
    "plt.plot(fpr_xgb, tpr_xgb, label='XGBoost (AUC = {:.3f})'.format(roc_auc_score(y_train, model_xgb.predict_proba(X_train_final)[:, 1])))\n",
    "plt.plot(fpr_rf, tpr_rf, label='Random Forest (AUC = {:.3f})'.format(roc_auc_score(y_train, model_rf.predict_proba(X_train_final)[:, 1])))\n",
    "plt.plot([0, 1], [0, 1], 'k--')\n",
    "plt.xlabel('False Positive Rate')\n",
    "plt.ylabel('True Positive Rate')\n",
    "plt.title('ROC Curve')\n",
    "plt.legend(loc='best')\n",
    "plt.show()\n",
    "\n",
    "# Bar Plot for Metrics\n",
    "metrics = ['Accuracy', 'Precision', 'Recall', 'F1-Score']\n",
    "xgb_scores = [accuracy_score(y_train, y_pred_xgb), precision_score(y_train, y_pred_xgb), recall_score(y_train, y_pred_xgb), f1_score(y_train, y_pred_xgb)]\n",
    "rf_scores = [accuracy_score(y_train, y_pred_rf), precision_score(y_train, y_pred_rf), recall_score(y_train, y_pred_rf), f1_score(y_train, y_pred_rf)]\n",
    "\n",
    "x = np.arange(len(metrics))\n",
    "width = 0.35\n",
    "\n",
    "fig, ax = plt.subplots(figsize=(10, 6))\n",
    "rects1 = ax.bar(x - width/2, xgb_scores, width, label='XGBoost')\n",
    "rects2 = ax.bar(x + width/2, rf_scores, width, label='Random Forest')\n",
    "\n",
    "ax.set_ylabel('Scores')\n",
    "ax.set_title('Model Comparison')\n",
    "ax.set_xticks(x)\n",
    "ax.set_xticklabels(metrics)\n",
    "ax.legend()\n",
    "\n",
    "plt.show()"
   ]
  },
  {
   "cell_type": "code",
   "execution_count": 60,
   "metadata": {},
   "outputs": [
    {
     "data": {
      "text/plain": [
       "3544    731\n",
       "1884    656\n",
       "8685    772\n",
       "6259    585\n",
       "4136    651\n",
       "       ... \n",
       "2160    727\n",
       "6242    698\n",
       "9739    677\n",
       "2957    686\n",
       "5277    577\n",
       "Name: CreditScore, Length: 7990, dtype: int64"
      ]
     },
     "execution_count": 60,
     "metadata": {},
     "output_type": "execute_result"
    }
   ],
   "source": [
    "X_train[\"n\"]"
   ]
  },
  {
   "cell_type": "markdown",
   "metadata": {},
   "source": [
    "---"
   ]
  }
 ],
 "metadata": {
  "kernelspec": {
   "display_name": "depi",
   "language": "python",
   "name": "python3"
  },
  "language_info": {
   "codemirror_mode": {
    "name": "ipython",
    "version": 3
   },
   "file_extension": ".py",
   "mimetype": "text/x-python",
   "name": "python",
   "nbconvert_exporter": "python",
   "pygments_lexer": "ipython3",
   "version": "3.10.9"
  }
 },
 "nbformat": 4,
 "nbformat_minor": 2
}
